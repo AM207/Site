{
 "metadata": {
  "name": "",
  "signature": "sha256:0802dc838fa55a2053ce35d7cc5729bcd3ad52e9834e5ac57f58e94c9cb27476"
 },
 "nbformat": 3,
 "nbformat_minor": 0,
 "worksheets": [
  {
   "cells": [
    {
     "cell_type": "heading",
     "level": 1,
     "metadata": {},
     "source": [
      "**AM 207**: Homework 2"
     ]
    },
    {
     "cell_type": "markdown",
     "metadata": {},
     "source": [
      "_ _ _ _ _\n",
      "\n",
      "Pavlos Protopapas <br>\n",
      "Handed out: Thursday, February 13th, 2014<br>\n",
      "Due: 11.59 P.M. Wednesday February 19th, 2014\n",
      "\n",
      "**Instructions**:\n",
      "\n",
      "+ Upload your answers in an ipython notebook to the dropbox.\n",
      "\n",
      "+ Your individual submissions use the following filenames: AM207_YOURNAME_HM2.ipynb\n",
      "\n",
      "+ Your code should be in code cells as part of your ipython notebook. Do not use a different language (or format) unless you get permission from the TFs. If you use any special libraries you must include them with your code (program should run as is). \n",
      "\n",
      "+ If you have multiple files (e.g. you've added code files and images) create a tarball for all files in a single file and name it: AM207_YOURNAME_HM2.tar or AM207_YOURNAME_HM2.zip\n",
      "\n",
      "_ _ _ _ _"
     ]
    },
    {
     "cell_type": "heading",
     "level": 3,
     "metadata": {},
     "source": [
      "Question 1:  The Asteroid Belt"
     ]
    },
    {
     "cell_type": "markdown",
     "metadata": {},
     "source": [
      "The distribution of the inclination angles, $\\theta$,of a particular asteroid population\n",
      "is given by: $P(\\theta) \\sim \\sin \\theta$ from $0< \\theta< \\pi/2$ and $P(\\theta )=0$ otherwise. The inclination angle is defined as the angle between the plane of the orbit of the asteroid and the ecliptic which is the plane containing Earth's orbital path.\n",
      "\n",
      "(a) Calculate the second moment of this function using the standard Monte Carlo method \n",
      "(a.k.a mean Monte Carlo) and $N=1000$.  That is calculate the integral, \n",
      "\n",
      "$I = \\int_0^{\\pi/2} \\theta^2 \\sin \\theta d\\, \\theta$\n",
      "\n",
      "Repeat the simulation for 100 times and report the mean value of $I$ and its variance. <br>\n",
      "\n",
      "(b) Use control variate(s) to reduce the variance of the estimation of $I$ using \n",
      "$N=1000$ and 100 simulations as in part (a). You must reduce the variance by 60% at the very least, but that will cost you some points. If you reduce the variance by 80% you will get full points.\n",
      "    \n"
     ]
    },
    {
     "cell_type": "heading",
     "level": 3,
     "metadata": {},
     "source": [
      "Question 2:  Control Your Variates or you WILL Regress"
     ]
    },
    {
     "cell_type": "markdown",
     "metadata": {},
     "source": [
      "Reread in Lecture 4 the section on Multiple Control Variates.  We're going to derive in detail exactly how to use multiple control variates to reduce variance.\n",
      "\n",
      "Recall that we wish to estimate $E[Y]$ where $Y = f(X)$ is the output of a simulation experiment.  We wish to use a set of control variates $Z_i=g_i(X)$ for $i= 1\\ldots m$ where the means of the functions $E[Z_i]=\\tau_i$ are known for each $i$.\n",
      "\n",
      "Recall from lecture that we'll construct a new estimator \n",
      "\n",
      "$$  f^{\\star}(X) = f(X)+b_1 \\left[ g_1(X) - \\tau_1\\right] +b_2 \\left[ g_2(X) - \\tau_2\\right] +\\ldots +b_m \\left[ g_m(X) - \\tau_m\\right] $$\n",
      "\n",
      "The variance of $f^{\\star}(X)$ can be shown to be the following:\n",
      "\n",
      "$$ var(f^{\\star}) = var(f) +2 \\, \\sum_i^{m} b_i\\, cov(f,g_i) + \\sum_{i}^{m} \\sum_{j}^{m} b_i \\, b_j cov(g_i, g_j) $$\n",
      "\n",
      "\n",
      "(a) We want to show that there are a set of optimal $ \\{b_i\\} $ that will reduce the variance.  First let's prove that variance reduction is possible via $ f^{\\star}(X) $.  Show that if $ g(X) $ has positive correlation with $ f(X) $ then $ f^{\\star}(X) = f(X) - g(X)$ will have lower variance than $ f(X) $. \n",
      "\n",
      "(b) Show that the solution to the linear regression problem  $ Y = a + c_1 g_1(X) + \\ldots + c_m g_m(X) + \\epsilon $ gives optimal $ \\{c^{\\star}_i\\} $ such that $ a + c^{\\star}_1 g_1(X) + \\ldots + c^{\\star}_m g_m(X) + \\epsilon $ has  maximum positive correlation to $  f(X) $.\n",
      "\n",
      "(c) Show that taking $ \\{b_i = -c_i\\} $ where $ \\{c_i\\} $ are from the solution to the regression in (b) gives the optimal variance reduction for multiple control variates.\n",
      "\n",
      "(d) Use multiple control variates with $g_i(X)= X^i$ for i in {1,...,10} to calculate the integral in lecture notes for control variates i.e.  \n",
      "\n",
      "$$ I = \\int_{0}^{10} dx \\left(\\cos(x) \\exp(-x)+0.2\\right) $$\n",
      "\n",
      "How does the answer compare to a regular monte carlo approach?  How about to the control variate $g(x) =exp(-x)+0.2 $?  To do the multiple linear regression you can use matrix algebra or sklearn.linear_model or statsmodels.api.OLS, both of which are available in anaconda.   "
     ]
    },
    {
     "cell_type": "heading",
     "level": 3,
     "metadata": {},
     "source": [
      "Question 3:  Bayesian theory is infectious"
     ]
    },
    {
     "cell_type": "markdown",
     "metadata": {},
     "source": [
      "A rare genetic disease has been discovered, and it has been determined\n",
      "that every 1 in a million people are carriers. Luckily, scientists\n",
      "have produced a genetic test that is 100% accurate in the presense of\n",
      "the disease. However, the test also produces a false positive 0.01%\n",
      "of the time. Having recently learned Bayes' theorem,\n",
      "you reach the conculsion that even taking genetic test is effectively pointless. Why?"
     ]
    },
    {
     "cell_type": "heading",
     "level": 3,
     "metadata": {},
     "source": [
      "Question 4: The infamous O-ring"
     ]
    },
    {
     "cell_type": "markdown",
     "metadata": {},
     "source": [
      "In 1986, the space shuttle Challenger exploded during take off,\n",
      "killing the seven astronauts aboard. It is believed that the\n",
      "explosion was caused by the failure of an O-ring (a rubber ring that\n",
      "seals parts of the solid fuel rockets together), and that the\n",
      "failure was caused by the cold weather at the time of launch (31F).\n",
      "\n",
      "In the file <a href=\"./files/chall.txt\">chall.txt</a>, you will find temperature (in\n",
      "Fahrenheit) and failure data from 23 shuttle launches, where 1\n",
      "stands for O-ring failure and 0 no failure.  We assume that the\n",
      "observed temperatures are fixed and that, at temperature $t$, an\n",
      "O-ring fails with probability $f(\\theta_{1}+\\theta_{2}t)$\n",
      "conditionally on $\\Theta = (\\theta_1, \\theta_2)$.\n",
      "\n",
      "Here, $f(z) = 1/(1 + \\exp(-z))$ is the logistic function.\n",
      "\n",
      "(a) Based on your own common sense knowledge, suggest a prior distribution for the regression parameters ($\\theta_1, \\theta_2$), and explain your choice of prior. <br>\n",
      "\n",
      "(b) Write a script that samples from the posterior distribution of $\\Theta$ using the rejection method. <br>\n",
      "\n",
      "(c) Compute a Bayesian posterior probability for an O-ring failure at $t = 31F$. <br>\n",
      "\n",
      "(d) The day before a new launch, meteorologists predict that the temperature will be $T \\sim N(68, 1)$ during take-off. Estimate the probability for an O-ring failure during this take-off.\n"
     ]
    },
    {
     "cell_type": "code",
     "collapsed": false,
     "input": [],
     "language": "python",
     "metadata": {},
     "outputs": []
    }
   ],
   "metadata": {}
  }
 ]
}