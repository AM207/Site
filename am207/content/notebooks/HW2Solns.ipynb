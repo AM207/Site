{
 "metadata": {
  "name": ""
 },
 "nbformat": 3,
 "nbformat_minor": 0,
 "worksheets": [
  {
   "cells": [
    {
     "cell_type": "heading",
     "level": 1,
     "metadata": {},
     "source": [
      "Homework 2 Solutions"
     ]
    },
    {
     "cell_type": "heading",
     "level": 2,
     "metadata": {},
     "source": [
      "Question 1 (a)"
     ]
    },
    {
     "cell_type": "markdown",
     "metadata": {},
     "source": [
      "The function we are looking to integrate is:"
     ]
    },
    {
     "cell_type": "markdown",
     "metadata": {},
     "source": [
      "$I=\\int_{0}^{\\pi/2} \\theta^2 {\\rm sin}\\theta d\\theta$"
     ]
    },
    {
     "cell_type": "markdown",
     "metadata": {},
     "source": [
      "We approximate this integral using the standard Monte Carlo method and using $N = 1000$ samples. We repeat the approximation $N_{MC} = 100$ times to determine the variance of the approximation."
     ]
    },
    {
     "cell_type": "code",
     "collapsed": false,
     "input": [
      "%matplotlib inline\n",
      "import numpy as np\n",
      "import matplotlib.pyplot as plt\n",
      "\n",
      "## Function to integrate\n",
      "fun = lambda x: x**2*np.sin(x)\n",
      "thetamin=0.\n",
      "thetamax=np.pi/2.\n",
      "v=thetamax-thetamin\n",
      "N=1e3\n",
      "Nmc=1e2\n",
      "\n",
      "Imc = np.zeros(Nmc)\n",
      "for i in np.arange(0,Nmc):\n",
      "    theta=v*np.random.uniform(low = 0, high=1,size=N)+thetamin\n",
      "    f=fun(theta)\n",
      "    Imc[i]=v*np.mean(f)\n",
      "\n",
      "outmean=np.mean(Imc)\n",
      "outvar=np.var(Imc)\n",
      "print outmean, outvar"
     ],
     "language": "python",
     "metadata": {},
     "outputs": [
      {
       "output_type": "stream",
       "stream": "stdout",
       "text": [
        "1.14011725903 0.00133217082033\n"
       ]
      }
     ],
     "prompt_number": 12
    },
    {
     "cell_type": "markdown",
     "metadata": {},
     "source": [
      "We actually know how to integrate this function, so we can check our result here."
     ]
    },
    {
     "cell_type": "markdown",
     "metadata": {},
     "source": [
      "$I=\\int_{0}^{\\pi/2} \\theta^2 {\\rm sin}\\theta d\\theta = 2 \\theta {\\rm sin}\\theta - (\\theta^2 -2){\\rm cos}\\theta |_{0}^{\\pi/2}$"
     ]
    },
    {
     "cell_type": "code",
     "collapsed": false,
     "input": [
      "fint = lambda x: 2*x*np.sin(x)-(x**2-2)*np.cos(x)\n",
      "Iexact = fint(thetamax) - fint(thetamin)\n",
      "print Iexact"
     ],
     "language": "python",
     "metadata": {},
     "outputs": [
      {
       "output_type": "stream",
       "stream": "stdout",
       "text": [
        "1.14159265359\n"
       ]
      }
     ],
     "prompt_number": 8
    },
    {
     "cell_type": "heading",
     "level": 2,
     "metadata": {},
     "source": [
      "Question 1 (b)"
     ]
    },
    {
     "cell_type": "markdown",
     "metadata": {},
     "source": [
      "Next, we use one control variate to reduce the variance of the estimation (and thus increase the quality of the approximation). We use $g(\\theta) = \\theta^2$. Indeed, it seems that the variance of $f(\\theta)\u2212g(\\theta)$ is reduced with respect to $f(\\theta)$. We now apply the method of control variates and find:"
     ]
    },
    {
     "cell_type": "code",
     "collapsed": false,
     "input": [
      "gun= lambda x: x**2 #Control variate\n",
      "gint= lambda x: x**3/3 #integral of CV\n",
      "tau=(1/v)*(gint(thetamax)-gint(thetamin))\n",
      "\n",
      "I2 = np.zeros(Nmc);\n",
      "for i in np.arange(0,Nmc):\n",
      "    theta=(thetamax-thetamin)*np.random.uniform(low = 0, high=1,size=N)+thetamin;\n",
      "    f=fun(theta)\n",
      "    #Control variate\n",
      "    g=gun(theta)\n",
      "    q=np.cov(f,g)\n",
      "    b= - q[0,1]/np.var(g)\n",
      "    I2[i]=v*(np.mean(f)+b*(np.mean(g)-tau))\n",
      "\n",
      "mean2=np.mean(I2) #Mean of MC with control variate\n",
      "var2=np.var(I2) #Variance of MC with control variate\n",
      "print mean2, var2"
     ],
     "language": "python",
     "metadata": {},
     "outputs": [
      {
       "output_type": "stream",
       "stream": "stdout",
       "text": [
        "1.14139100704 9.70330598283e-06\n"
       ]
      }
     ],
     "prompt_number": 23
    },
    {
     "cell_type": "code",
     "collapsed": false,
     "input": [
      "plt.hist(Imc,10, histtype='step', label=u'Basic MC')\n",
      "plt.hist(I2,5, histtype='step', label = u'Control Variate')\n",
      "plt.plot([Iexact, Iexact], [0 ,50], 'y.-') \n",
      "plt.legend()"
     ],
     "language": "python",
     "metadata": {},
     "outputs": [
      {
       "metadata": {},
       "output_type": "pyout",
       "prompt_number": 18,
       "text": [
        "<matplotlib.legend.Legend at 0x106706b10>"
       ]
      },
      {
       "metadata": {},
       "output_type": "display_data",
       "png": "[encoded data removed]",
       "text": [
        "<matplotlib.figure.Figure at 0x106706a10>"
       ]
      }
     ],
     "prompt_number": 18
    },
    {
     "cell_type": "heading",
     "level": 2,
     "metadata": {},
     "source": [
      "Question 3"
     ]
    },
    {
     "cell_type": "markdown",
     "metadata": {},
     "source": [
      "Bayes theorem states that $P (\\theta | D) = P (D | \\theta) \\frac{P(D)}{P(\\theta)} $ or expressed more clearly in the form of this problem:\n",
      "\n",
      "$P({\\rm healthy~|~PosTest}) = P({\\rm PosTest~|~healthy}) \\frac{P({\\rm healthy})}{P({\\rm PosTest})}$\n",
      "\n",
      "where PosTest is the situtation where a patient has tested positive for the disease. From the question we know that the probability of someone not having the disease (i.e, that they are healthy) is $P({\\rm healthy}) = 1 - 10^{-6} = 0.999999$. Also the probability that someone is healthy inspite of receiving a positive test result (i.e., a false positive) is $P({\\rm PosTest~|~healthy}) = 0.0001$. Also, we are missing from the Bayes equation is probabiliy that someone will test positive, $P({\\rm PosTest})$.\n",
      "\n",
      "There are only two possible outcomes, either a person is healthy or sick. So the marginal reduces to:\n",
      "\n",
      "$P({\\rm PosTest}) = P({\\rm PosTest~|~healthy})P({\\rm healthy}) + P({\\rm PosTest~|~sick})P({\\rm sick})$\n",
      "\n",
      "but we know form the question that $P({\\rm PosTest~|~sick}) =1 $ and $P({\\rm sick})=10^{-6}$. Therefore, \n",
      "\n",
      "$P({\\rm PosTest}) = (0.0001 \\times 0.999999) + (1 \\times 10^{-6}) = 0.000101$\n",
      "\n",
      "Finally,\n",
      "\n",
      "$P({\\rm healthy~|~PosTest}) = \\frac{0.0001 \\times 0.999999}{0.000101} = 0.990098$\n",
      "\n",
      "So we can clearly see that if you were to go and take the test, the chance of you still being healthy inspite of the test informing you that you may be sick is $>99\\%$. In other words, it's probably a waste of your valuable time that could be better spent in class!\n",
      "\n"
     ]
    },
    {
     "cell_type": "heading",
     "level": 2,
     "metadata": {},
     "source": [
      "Question 4"
     ]
    },
    {
     "cell_type": "markdown",
     "metadata": {},
     "source": [
      "Part (a): The priors should be based on our previous knowledge, but not specifically take into account the data. So, from the information given in the question, we know that Challenger failed at a relatively low temperature (31F). We also know from common knowledge that 31F is a relatively low temperature, which is unusual for the typical temperatures seen in Florida and that this was not the first shuttle launch, there were 50 before the STS-51 mission - these launches did not fail. With this intuition in mind, the regression gradient should probably be negative, i.e., it is less likely that the shuttle will fail at more typical Florida temperatures. In turn, this means that the intercept should probably be positive. So the parameters should have mean values that can be normally distributed. So, we choose extremely simple and loose priors for $\\Theta = (\\theta_1,\\theta_2)$ of $\\theta_1 \\sim N(31,30)$ and $\\theta_2 \\sim N(-0.5,1)$. Any sensible positive intercept for $\\theta_1$ would be fine, although less prior information could also be assumed if we were to uniformly distribute $\\theta_1$ above zero, and any mean negative gradient for $\\theta_2$ that allows for the more unlikely possibility of a positive gradient would also be acceptable."
     ]
    },
    {
     "cell_type": "markdown",
     "metadata": {},
     "source": [
      "Part (b) We use the data to define the likelihood (L) as:\n",
      "\n",
      "$L(D|\\Theta) = \\prod\\limits_{i=1}^{n=23} f(fail_i | \\theta_1,\\theta_2, T_i) \\times f(success_i|\\theta_1,\\theta_2,T_i)$\n",
      "    \n",
      "And implement a multivariate regection alogrithm to sample from the posterior given by:\n",
      "$P (\\Theta|D) = L(D|\\Theta)P (\\Theta)$\n"
     ]
    },
    {
     "cell_type": "code",
     "collapsed": false,
     "input": [
      "%matplotlib inline\n",
      "import numpy as np\n",
      "import matplotlib.pyplot as plt\n",
      "from scipy.stats import norm\n",
      "import pandas as pd\n",
      "\n",
      "# PART A: GENERATE THE PRIORS\n",
      "def prior(theta1, theta2):\n",
      "    a=norm.pdf(theta1, loc= 31, scale=30)\n",
      "    b=norm.pdf(theta2, loc=-0.5, scale=1)\n",
      "    c=a*b\n",
      "    return c\n",
      "\n",
      "# PART B: CALCULATE THE POSTERIOR\n",
      "data=np.loadtxt('./files/chall.txt')\n",
      "T=data[:,0]\n",
      "p_fail=data[:,1]\n",
      "\n",
      "\n",
      "def mylikelihood(pfail, temp, thet1, thet2):\n",
      "    logistic_fun= 1./(1 + np.exp(-1*(thet1 + thet2*temp)))\n",
      "    p=np.prod(logistic_fun**pfail*(1-logistic_fun)**(1-pfail))\n",
      "    return p\n",
      "\n",
      "#def mylikelihood(pfail, t, a, b):\n",
      "#    logistic_fun= lambda (temp,thet1,thet2): 1./(1 + np.exp(-1*(thet1 + thet2*temp)))\n",
      "#    p=np.prod(logistic_fun(t, a, b)**pfail*(1-logistic_fun(t, a, b))**(1-pfail))\n",
      "#    return p\n",
      "\n",
      "# Now lets use rejection to draw random samples, t1 and t2 from the posterior\n",
      "\n",
      "foo=200\n",
      "x = np.linspace(0,50,foo)\n",
      "y = np.linspace(-1,0.3,foo)\n",
      "xx,yy = np.meshgrid(x,y)\n",
      "zz=np.zeros((foo,foo))\n",
      "for i in np.arange(0,foo):\n",
      "    for j in np.arange(0,foo):\n",
      "        zz[i,j] = mylikelihood(p_fail, T, xx[i,j], yy[i,j])\n",
      "\n",
      "plt.contourf(xx,yy,zz)\n",
      "plt.xlabel('t_1')\n",
      "plt.ylabel('t_2')\n",
      "plt.show()\n"
     ],
     "language": "python",
     "metadata": {},
     "outputs": [
      {
       "metadata": {},
       "output_type": "display_data",
       "png": "[encoded data removed]",
       "text": [
        "<matplotlib.figure.Figure at 0x108692a10>"
       ]
      }
     ],
     "prompt_number": 29
    },
    {
     "cell_type": "code",
     "collapsed": false,
     "input": [
      "t1min = 0 # domain limits\n",
      "t1max = 40\n",
      "t2min = 0.1\n",
      "t2max = -1\n",
      "zmax = 1e-5\n",
      "\n",
      "N = 50000\n",
      "accepted = 0\n",
      "samples = np.zeros((2,N))\n",
      "\n",
      "\n",
      "# generation loop\n",
      "while (accepted < N):\n",
      "    \n",
      "    # pick uniform numbers\n",
      "    t1 = np.random.uniform(t1min, t1max)\n",
      "    t2 = np.random.uniform(t2min, t2max)\n",
      "    z = np.random.uniform(0,zmax)\n",
      "\n",
      "    # Do the accept/reject comparison\n",
      "    if z < mylikelihood(p_fail, T, t1, t2):\n",
      "        samples[:,accepted] = t1,t2\n",
      "        accepted += 1\n",
      "\n",
      "plt.hist2d(samples[0,:], samples[1,:], normed=True, bins=200)\n",
      "plt.xlabel('t_1')\n",
      "plt.ylabel('t_2')\n",
      "plt.show()"
     ],
     "language": "python",
     "metadata": {},
     "outputs": [
      {
       "metadata": {},
       "output_type": "display_data",
       "png": "[encoded data removed]",
       "text": [
        "<matplotlib.figure.Figure at 0x1086b3350>"
       ]
      }
     ],
     "prompt_number": 31
    },
    {
     "cell_type": "markdown",
     "metadata": {},
     "source": [
      "Part (c) Now we use the sample draws from part (b) to calculate the failure probability (i.e., the logistic function) at $T=31$. The probability of failure is $\\sim99\\%$."
     ]
    },
    {
     "cell_type": "code",
     "collapsed": false,
     "input": [
      "#PART C: CALCULATE THE PROBABILITY OF FAILURE AT 31F\n",
      "t1=samples[0,:]\n",
      "t2=samples[1,:]\n",
      "logistic_fun= 1./(1 + np.exp(-1*(t1 + t2*31.0))) # Likelihood at 31F\n",
      "plt.hist(logistic_fun,50, histtype='step', label='Failure Probability at 31F')\n",
      "plt.legend()\n",
      "print np.mean(logistic_fun) # Mean probability of failure at 31F"
     ],
     "language": "python",
     "metadata": {},
     "outputs": [
      {
       "output_type": "stream",
       "stream": "stdout",
       "text": [
        "0.98637231124\n"
       ]
      },
      {
       "metadata": {},
       "output_type": "display_data",
       "png": "[encoded data removed]",
       "text": [
        "<matplotlib.figure.Figure at 0x10868b9d0>"
       ]
      }
     ],
     "prompt_number": 34
    },
    {
     "cell_type": "markdown",
     "metadata": {},
     "source": [
      "Part (d): We repeat (c) using 5000 temperatures randomly drawn from a normal distribution, and use a standard vanilla MC. Here for speed we use the posterior draws directly from part (b). The mean failure probability, based on the available data is $\\sim 31\\%$, with 68% of the failures within $\\pm 4.5\\%$."
     ]
    },
    {
     "cell_type": "code",
     "collapsed": false,
     "input": [
      "#PART D: Failure probability for T~N(68 ,1)\n",
      "Nmc=5000\n",
      "temp = np.random.normal(68,1,Nmc)\n",
      "fail_prob = np.zeros(Nmc)\n",
      "for n in np.arange(0,Nmc): #Vanilla MC\n",
      "    logistic_fun= 1./(1 + np.exp(-1*(t1 + t2*temp[n])))\n",
      "    fail_prob[n] = np.mean(logistic_fun)\n",
      "    #Technically , we should redraw t1,t2 from the Posterior for each loop using MCMC, \n",
      "    #but this would take an eternity, and the variance and mean are dominated by the \n",
      "    #distribution of temperatures, so the difference between results is negligible.\n",
      "\n",
      "plt.hist(fail_prob,30, histtype='step', label=u'Failure Probability for T~N(68,1)')\n",
      "print np.mean(fail_prob), np.var(fail_prob)\n",
      "plt.legend()"
     ],
     "language": "python",
     "metadata": {},
     "outputs": [
      {
       "output_type": "stream",
       "stream": "stdout",
       "text": [
        "0.324475172322 0.00341114118785\n"
       ]
      },
      {
       "metadata": {},
       "output_type": "pyout",
       "prompt_number": 41,
       "text": [
        "<matplotlib.legend.Legend at 0x10a06b950>"
       ]
      },
      {
       "metadata": {},
       "output_type": "display_data",
       "png": "[encoded data removed]",
       "text": [
        "<matplotlib.figure.Figure at 0x10a0034d0>"
       ]
      }
     ],
     "prompt_number": 41
    },
    {
     "cell_type": "code",
     "collapsed": false,
     "input": [],
     "language": "python",
     "metadata": {},
     "outputs": []
    }
   ],
   "metadata": {}
  }
 ]
}