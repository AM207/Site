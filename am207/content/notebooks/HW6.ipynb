{
 "metadata": {
  "name": "",
  "signature": "sha256:6a9c23d397a829af315f70aef22ac5d4ce2035a860d180a27c24c7a3991f61ab"
 },
 "nbformat": 3,
 "nbformat_minor": 0,
 "worksheets": [
  {
   "cells": [
    {
     "cell_type": "heading",
     "level": 1,
     "metadata": {},
     "source": [
      "**AM 207**: Homework 6"
     ]
    },
    {
     "cell_type": "markdown",
     "metadata": {},
     "source": [
      "_ _ _ _ _\n",
      "\n",
      "Pavlos Protopapas <br>\n",
      "Handed out: Thursday, March 13th, 2014<br>\n",
      "Due: 11.59 P.M. Wednesday March 26th, 2014\n",
      "\n",
      "**Instructions**:\n",
      "\n",
      "+ Upload your answers in an ipython notebook to the dropbox.\n",
      "\n",
      "+ Your individual submissions use the following filenames: AM207_YOURNAME_HM7.ipynb\n",
      "\n",
      "+ Your code should be in code cells as part of your ipython notebook. Do not use a different language (or format) unless you get permission from the TFs. If you use any special libraries you must include them with your code (program should run as is). \n",
      "\n",
      "+ If you have multiple files (e.g. you've added code files and images) create a tarball for all files in a single file and name it: AM207_YOURNAME_HM7.tar or AM207_YOURNAME_HM7.zip\n",
      "\n",
      "_ _ _ _ _"
     ]
    },
    {
     "cell_type": "heading",
     "level": 3,
     "metadata": {},
     "source": [
      "Question 1:  Squares beyond compare [10 pts]"
     ]
    },
    {
     "cell_type": "markdown",
     "metadata": {},
     "source": [
      "Consider a shape consisting of two squares of equal side and centered at the same point, which \n",
      " are rotated by $\\pi/4$ relative to each other. The two squares intersect each other at eight points.\n",
      "The squares each have four corners.  The intersections and corners lie on eight line \n",
      "segments (the sides of the two squares) that contain four points each, two corners and two intersections. \n",
      "Use Simulated Annealing to place the sixteen lowest positive integers along these \n",
      "line segments so that the sum of the numbers in each line segment is the same \n",
      "for all the line segments.\n",
      " \n",
      "\n"
     ]
    },
    {
     "cell_type": "heading",
     "level": 3,
     "metadata": {},
     "source": [
      "Question 2:  A tired salesman [10 pts]"
     ]
    },
    {
     "cell_type": "markdown",
     "metadata": {},
     "source": [
      "In the traveling salesman problem, the quality of the solution can be measured in \n",
      "different ways, beyond the shortest path.  For example, the total time of travel may also \n",
      "be important, and may depend on the means of transportation that connect pairs of \n",
      "cities.  Consider a random distribution of $N$ points on a plane representing the cities \n",
      "that must be visited by the traveling salesman.  Assign a value $s_i, i=1,\\dots,N$\n",
      "to each city that represents its size, as measured by its population (take $1 \\leq s_i \\leq 10$).\n",
      "For cities that are farther than a certain \n",
      "distance and are larger than a certain size, assume that there are airplane connections \n",
      "between them.  For the rest of the cities there is only a car connection.  Assume that \n",
      "air travel is faster by a factor of 10 than car travel. \n",
      "\n",
      "a) Use Simulated Annealing to find solutions to the traveling salesman problem for \n",
      "$N=100$, optimizing the path by the total distance travelled while keeping track \n",
      "of the time of travel. \n",
      "\n",
      "b) Now redo the problem by optimizing the the path by the total \n",
      "time of travel, while keeping track of the distance traveled. Are the two solutions \n",
      "similar or different? \n",
      "\n",
      "c) How do your results change if the thresholds (population/distance) for having a flight between two cities are altered?\n"
     ]
    },
    {
     "cell_type": "heading",
     "level": 3,
     "metadata": {},
     "source": [
      "Question 3:  Project Proposal [0 pts]"
     ]
    },
    {
     "cell_type": "markdown",
     "metadata": {},
     "source": [
      "Write a 1-2 page proposal for your final project. Discuss the problem you wish to solve and be sure to give enough background information that an educated reader who might not be an expert in your area of application (i.e. your TFs) will be able to understand.  Please specifically mention the techniques from AM207 that you plan to use in your project.  For those working in groups, please give a rough outline of the anticipated division of labor for the project.\n"
     ]
    },
    {
     "cell_type": "code",
     "collapsed": false,
     "input": [],
     "language": "python",
     "metadata": {},
     "outputs": []
    },
    {
     "cell_type": "code",
     "collapsed": false,
     "input": [],
     "language": "python",
     "metadata": {},
     "outputs": []
    }
   ],
   "metadata": {}
  }
 ]
}