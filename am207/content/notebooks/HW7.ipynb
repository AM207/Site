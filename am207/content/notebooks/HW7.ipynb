{
 "metadata": {
  "name": "",
  "signature": "sha256:4b7e7a6fcae17e40d71ff1091b7631ee119cf309ecaaf4c10f739c277ddd9e52"
 },
 "nbformat": 3,
 "nbformat_minor": 0,
 "worksheets": [
  {
   "cells": [
    {
     "cell_type": "heading",
     "level": 1,
     "metadata": {},
     "source": [
      "**AM 207**: Homework 7"
     ]
    },
    {
     "cell_type": "markdown",
     "metadata": {},
     "source": [
      "_ _ _ _ _\n",
      "\n",
      "Pavlos Protopapas <br>\n",
      "Handed out: Thursday, March 27th, 2014<br>\n",
      "Due: 11.59 P.M. Wednesday April 3rd, 2014\n",
      "\n",
      "**Instructions**:\n",
      "\n",
      "+ Upload your answers in an ipython notebook to the dropbox.\n",
      "\n",
      "+ Your individual submissions use the following filenames: AM207_YOURNAME_HM7.ipynb\n",
      "\n",
      "+ Your code should be in code cells as part of your ipython notebook. Do not use a different language (or format) unless you get permission from the TFs. If you use any special libraries you must include them with your code (program should run as is). \n",
      "\n",
      "+ If you have multiple files (e.g. you've added code files and images) create a tarball for all files in a single file and name it: AM207_YOURNAME_HM7.tar or AM207_YOURNAME_HM7.zip\n",
      "\n",
      "_ _ _ _ _"
     ]
    },
    {
     "cell_type": "heading",
     "level": 3,
     "metadata": {},
     "source": [
      "Question 1:  The perfect configuration"
     ]
    },
    {
     "cell_type": "markdown",
     "metadata": {},
     "source": [
      "Consider a system consisting of 7 particles of type A and 12 particles of type B, which exist in a 2-dimensional (x, y) space. Two particles \n",
      "of type A interact among themselves with the Lennard-Jones (LJ) potential \n",
      "\n",
      "$$ V_{AA}(r_{12} )= \\epsilon_{A} \\left[  \\left( \\frac{\\sigma_{A}}{r_{12}} \\right) ^{12} - \\left( \\frac{\\sigma_{A}}{r_{12}} \\right) ^{6} \\right] $$\n",
      "\n",
      "where $r_{12} = \\sqrt{(x_1 - x_2)^2 + (y_1-y_2)^2 }$ is the distance between the particles at positions ($x_1$, $y_1$) and ($x_2$, $y_2$), and $\\sigma_A$, $\\epsilon_A$ are constants. Similarly particles of type B interact among themselves with a LJ potential \n",
      "$V_{BB}(r_{12})$ with different constants  $\\sigma_B$, $\\epsilon_B$  and particles of type A and type B interact with a LJ potential $V_{AB}(r_{12})$ with constants which are the geometric and arithmetic averages of the constants corresponding to $A - A$ and $B - B$ interactions, that is:\n",
      "\n",
      "$$ \\sigma_{AB} = \\sqrt{ \\sigma_A \\, \\sigma_B}, \\,\\,\\, \\epsilon_{AB} = \\frac{1}{2} (\\epsilon_A + \\epsilon_B).  $$\n",
      "\n",
      "Using the GA method, find the optimal configuration of the cluster\n",
      "of 19 $A$ and $B$ particles. Use the following values for the constants:\n",
      "\n",
      "$$ \\sigma_A=1.0, \\,\\, \\sigma_B=1.125,  \\,\\, \\epsilon_A=2.0,   \\,\\, \\epsilon_B = 1.5 $$\n"
     ]
    },
    {
     "cell_type": "heading",
     "level": 3,
     "metadata": {},
     "source": [
      "Question 2: The Cost of Housing"
     ]
    },
    {
     "cell_type": "markdown",
     "metadata": {},
     "source": [
      "Here we ask you to use your knowledge of gradient descent to model home prices.  The txt file [files/houses.txt](houses.txt) gives data on the living area (in sq. ft), number of bedrooms, and price (1st to third column) for 47 homes in the Portland, Oregon area.  "
     ]
    },
    {
     "cell_type": "markdown",
     "metadata": {},
     "source": [
      "Consider the following simple model of home prices\n",
      "\n",
      "$$\\text{Price} = \\theta_0+\\theta_1 \\text{Area} +\\theta_2 \\text{Bedrooms} + \\epsilon$$\n",
      "\n",
      "a) Write out the least-squares cost function (the function you are trying to minimize) for this regression problem. Note that this is equivalent to MLE for  gaussian $\\epsilon$.\n",
      "\n",
      "b) Use **batch gradient descent** to find the optimal values of $\\theta$.  Experiment with several different learning rates $\\alpha$ before running the algorithm to convergence.  Plot cost as a function of iteration for the different values of $\\alpha$ you experiment with and explain what learning rate is optimal (for this plot you only need to go out to 50 iterations).  Now using the learning rate you selected, run the batch gradient descent algorithm to convergence and record the optimal $\\theta$ and minimum value of the cost function.  Record the time the algorithm takes to converge.\n",
      "\n",
      "c) Now minimize the cost function using **stochastic gradient descent**.  Produce a plot of the cost as a function of iteration and record the optimal $\\theta$ and minimum value of the cost function.  Record the time the algorithm takes to converge.\n",
      "\n",
      "d) Which algorithm took longer to converge?  Why?  Are your results in b) and c) similar?\n",
      "\n",
      "e) What is the predicted price of a house with 2500 square feet and 2 bedrooms?\n",
      "\n",
      "Hint: Before beginning the optimization, you may want to normalize both the living area and bedroom inputs by subtracting the mean and dividing by the standard deviation.  "
     ]
    },
    {
     "cell_type": "code",
     "collapsed": false,
     "input": [],
     "language": "python",
     "metadata": {},
     "outputs": []
    }
   ],
   "metadata": {}
  }
 ]
}