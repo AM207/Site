{
 "metadata": {
  "name": "",
  "signature": "sha256:5c8bb24d6229a99effe53f3c01633e5c39d7c871b1dfe6434a806fb6f916da76"
 },
 "nbformat": 3,
 "nbformat_minor": 0,
 "worksheets": [
  {
   "cells": [
    {
     "cell_type": "heading",
     "level": 1,
     "metadata": {},
     "source": [
      "**AM 207**: Homework 8"
     ]
    },
    {
     "cell_type": "markdown",
     "metadata": {},
     "source": [
      "_ _ _ _ _\n",
      "\n",
      "Pavlos Protopapas <br>\n",
      "Handed out: Thursday, April 3rd, 2014<br>\n",
      "Due: Wednesday April 9th, 2014, 11.59PM. NOTE DATE CHANGE.\n",
      "\n",
      "**Instructions**:\n",
      "\n",
      "+ Upload your answers in an ipython notebook to the dropbox.\n",
      "\n",
      "+ Your individual submissions use the following filenames: AM207_YOURNAME_HM8.ipynb\n",
      "\n",
      "+ Your code should be in code cells as part of your ipython notebook. Do not use a different language (or format) unless you get permission from the TFs. If you use any special libraries you must include them with your code (program should run as is). \n",
      "\n",
      "+ If you have multiple files (e.g. you've added code files and images) create a tarball for all files in a single file and name it: AM207_YOURNAME_HM8.tar or AM207_YOURNAME_HM8.zip\n",
      "\n",
      "_ _ _ _ _"
     ]
    },
    {
     "cell_type": "heading",
     "level": 3,
     "metadata": {},
     "source": [
      "Question 1: Yule Walker vs MLE"
     ]
    },
    {
     "cell_type": "markdown",
     "metadata": {},
     "source": [
      "Consider an $n$-dimensional autoregressive model of order p,\n",
      "\n",
      "$$ x(t) = A_a \\, x(t-1) + A_2 \\, x(t-2) + \\ldots + A_p \\, x(t-p) + \\epsilon(t) $$\n",
      "\n",
      "where $A_k$ are the coefficients of the AR(P) model and $\\epsilon$\n",
      "is N(0,1) noise. \n",
      "\n",
      "a) Given the measurements in [hm8q1.txt](./files/hm8q1.txt), estimate the parameters $A_1,A_2$ and $A_3$ assuming $p=3$.\n",
      "using Yule-Walker. \n",
      "\n",
      "b) Now use maximum likelihood (you may use built in `statsmodels` ARMA model fit functions) for the same. Are the answers similar? Why?"
     ]
    },
    {
     "cell_type": "heading",
     "level": 3,
     "metadata": {},
     "source": [
      "Q2. Tracking the lynx"
     ]
    },
    {
     "cell_type": "markdown",
     "metadata": {},
     "source": [
      "You are given the annual record of the number of the Canadian lynx \"trapped\" in the Mackenzie River district of the North-West Canada for the period 1821\u20131934. [data](./files/lynx.txt)\n",
      "\n",
      "1. Given the lynx data set, plot the time series, its ACF, and PACF. Use `statsmodels` MLE fit for an AR(2) model on the first 85 years. Report the coefficients and the plot the prediction with 95% confidence intervals on the remaining out-of-sample data. Hint: see `ARMAResults.forecast`\n",
      "2. What are the roots of the backshift operator polynomial in this case? Is the time series stationary or not? Why are we able to obtain somewhat periodic behavior from the AR(2) series?\n",
      "3. Now use the AIC to find the best fit AR model (with order less than 20) and report its order."
     ]
    },
    {
     "cell_type": "heading",
     "level": 3,
     "metadata": {},
     "source": [
      "Q3. Project you proposal"
     ]
    },
    {
     "cell_type": "markdown",
     "metadata": {},
     "source": [
      "Hand in your project proposal as a ipynb or pdf along with the solution to this homework"
     ]
    }
   ],
   "metadata": {}
  }
 ]
}