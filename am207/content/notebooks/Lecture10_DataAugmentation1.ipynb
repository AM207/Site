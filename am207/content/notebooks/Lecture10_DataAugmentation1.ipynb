{
 "metadata": {
  "name": "",
  "signature": "sha256:96dab0f91834f8d21a265856894f7ba73d03b6ad18d1e8aa11579ba8bdbd1581"
 },
 "nbformat": 3,
 "nbformat_minor": 0,
 "worksheets": [
  {
   "cells": [
    {
     "cell_type": "markdown",
     "metadata": {},
     "source": [
      "#Lecture 10: Data Augmentation\n",
      "\n",
      "AM207: Pavlos Protopapas, Harvard University\n",
      "\n",
      "Feb 27 2014\n",
      "\n",
      "\n",
      "------\n"
     ]
    },
    {
     "cell_type": "heading",
     "level": 1,
     "metadata": {},
     "source": [
      "Data Augmentation"
     ]
    },
    {
     "cell_type": "markdown",
     "metadata": {},
     "source": [
      "The term data augmentation refers to methods for constructing iterative algorithms via the introduction of unobserved data or latent variables. For deterministic algorithms, the method was popularized in the general statistical community by the seminal paper of Dempster, Laird, and Rubin (1977) on the EM algorithm for maximizing a likelihood function or more generally a posterior density. For stochastic algorithms, the method was popularized in the statistical literature by Tanner and Wong's (1987) *Data Augmentation algorithm for posterior sampling*, and in the physics literature by Swendsen and Wang's (1987) algorithm for sampling from Ising and Potts models and it generalizations; in the physics literature, the method of data augmentation is referred to as the method of auxiliary variables. Data augmentation schemes were used by Tanner and Wong to make simulation feasible and simple, while auxiliary variables were adopted by Swendsen and Wang to improve the speed of iterative simulation. In general, however, constructing data augmentation schemes that result in both simple and fast algorithms is a matter of art in that successful strategies vary greatly with the observed-data models being considered. \n",
      "\n",
      "Lets go back to our usual goal. Find the value of an integral \n",
      "\n",
      "$$  I=\\int f(x) p(x) dx  $$\n",
      "\n",
      "(and other integrals that use $p(x)$ as a pdf) which cannot be computed analytically. \n",
      "\n",
      "The basic idea is, if it is difficult to simulate from $p(x)$ using the traditional methods we've learned so far, it is often possible to find a joint pdf \n",
      "that:\n",
      "\n",
      "$$ \\int p(x,y)\\, dy = p(x)  $$\n",
      "\n",
      "and simulating from the associated conditional pdfs, $p(x|y)$ and $p(y|x)$ is easy.\n",
      "\n",
      "The DA algorithm is based on this joint pdf, and we *marginalize* over the **augmenting variable** $y$ to obtain samples for $p(x)$.\n",
      "\n",
      "The first property allows for a construction of Markov chain (see below for the proof). \n",
      "\n",
      "\n",
      "The simplest form of DA algorithm takes the following form:\n",
      "\n",
      "1. Draw $Y\\sim p_{Y|X}(.|x)$ and call the observed value y\n",
      "2. Draw $X_{n+1} \\sim p_{X|Y}(.|y)$  \n",
      "\n",
      "The genesis of the name data augmentation algorithm appears to be Tanner and Wong\n",
      "(1987) who used it to describe an iterative algorithm for approximating complex posterior\n",
      "distributions. However, it does not appear to be the case\n",
      "that Tanner and Wong (1987) ''invented'' the DA algorithm (as I have defined it here), since other researchers, such as Swendsen and Wang (1987) were using it at about the same time. \n",
      "\n",
      "Lets do one simple examples and then show the proof of Markov chain. "
     ]
    },
    {
     "cell_type": "code",
     "collapsed": false,
     "input": [
      "%matplotlib inline\n",
      "import numpy as np\n",
      "import scipy as sp\n",
      "import matplotlib.pyplot as plt\n",
      "import pandas as pd\n",
      "pd.set_option('display.width', 500)\n",
      "pd.set_option('display.max_columns', 100)\n",
      "import seaborn as sns"
     ],
     "language": "python",
     "metadata": {},
     "outputs": [],
     "prompt_number": 1
    },
    {
     "cell_type": "markdown",
     "metadata": {},
     "source": [
      "## Examples\n",
      "\n",
      "###Example 1\n",
      "\n",
      "Suppose that $p_X$ is the standard normal density, i.e., $p(x) = e^{-x^2/2}/\\sqrt{2\\pi}$.\n",
      "Obviously, there is nothing difficult about this density. Nevertheless, it is best to start with something simple in which the basic ideas of the algorithm are not overshadowed by the complexity of the target density. Take \n",
      "\n",
      "$$p(x, y) = 1/(\\sqrt{2\\pi}) \\exp{\\left\\{-(x^2 - \\sqrt{2} xy + y^2) \\right\\} } $$\n",
      "\n",
      "which is a bivariate normal density with means equal to zero, variances equal\n",
      "to one, and correlation equal to $1/\\sqrt{2}$. The two conditionals are  normal, as we can see by completing the square and neglecting the part of the function that only depends on the variable not being conditioned upon ($e^{-y^2 }$ and $e^{-x^2 }$ respectively for the conditionals below).\n",
      "\n",
      "$$ \n",
      "Y|X = x \\, \\, \\sim N(x/\\sqrt{2}, 1/2) \\,\\,\\,  \\rm{and} \\,\\,\\, X|Y= y \\,\\,\\sim N(y/\\sqrt{2}, 1/2) $$\n",
      "\n",
      "The x-marginal is \n",
      "\n",
      "$$\\propto e^{-x^{2}/2} \\int e^{-(y-x/\\sqrt{2})^2 }dy $$ \n",
      "\n",
      "and clearly thus gets back the old normal we want to draw from."
     ]
    },
    {
     "cell_type": "code",
     "collapsed": false,
     "input": [
      "N=100000\n",
      "x=np.zeros(N)\n",
      "x[0] = np.random.rand() # INITIALIZE\n",
      "for i in np.arange(1,N):\n",
      "    Y=sp.stats.norm.rvs(x[i-1]/np.sqrt(2), 0.5)\n",
      "    x[i]=sp.stats.norm.rvs(Y/np.sqrt(2), 0.5)"
     ],
     "language": "python",
     "metadata": {},
     "outputs": [],
     "prompt_number": 35
    },
    {
     "cell_type": "code",
     "collapsed": false,
     "input": [
      "plt.hist(x, bins=30, alpha=0.3, normed=True);\n",
      "sns.kdeplot(x)\n",
      "plt.xlabel('x')"
     ],
     "language": "python",
     "metadata": {},
     "outputs": [
      {
       "metadata": {},
       "output_type": "pyout",
       "prompt_number": 36,
       "text": [
        "<matplotlib.text.Text at 0x10c85b590>"
       ]
      },
      {
       "metadata": {},
       "output_type": "display_data",
       "png": "[encoded data removed]",
       "text": [
        "<matplotlib.figure.Figure at 0x10c811dd0>"
       ]
      }
     ],
     "prompt_number": 36
    },
    {
     "cell_type": "markdown",
     "metadata": {},
     "source": [
      "### Example 2\n",
      "\n",
      "Suppose $p(x) = 3\\,x^2$ from $0< x < 1$. We take $p(x,y) = 3x$  for \n",
      "$y < x < 1$ and $0 < y < x$ then the x-marginal is $p_X(x)=3x^2$. The two conditional densities are given by \n",
      "\n",
      "$$ p(y|x)  = \\frac{1}{x}  \\, \\, \\, \\rm{for} \\,\\,\\, 0 < y < x $$  \n",
      "and \n",
      "$$ p(x|y)  = \\frac{2x}{1-y^2}  \\, \\, \\, \\rm{for} \\,\\,\\,y < x < 1 $$ \n",
      "\n",
      "Simulating from these conditionals is straightforward using inverse transformations. \n",
      "\n",
      "$$ Y|X = x  \\,\\, \\sim x \\, U $$ \n",
      "\n",
      "$$ X|Y = y  \\,\\, \\sim \\sqrt{ ( 1-y^2)\\,U+y^2} $$"
     ]
    },
    {
     "cell_type": "code",
     "collapsed": false,
     "input": [
      "N=100000\n",
      "x=np.zeros(N)\n",
      "y=np.zeros(N)\n",
      "x[0] = 0.1*np.random.rand()  #initial\n",
      "for i in np.arange(1,N):\n",
      "    y[i]=x[i-1]*np.random.rand()\n",
      "    x[i]=np.sqrt((1-y[i]**2)*np.random.rand() + y[i]**2)"
     ],
     "language": "python",
     "metadata": {},
     "outputs": [],
     "prompt_number": 31
    },
    {
     "cell_type": "code",
     "collapsed": false,
     "input": [
      "plt.hist(x, bins=30, alpha=0.3, normed=True);\n",
      "plt.xlabel('x')"
     ],
     "language": "python",
     "metadata": {},
     "outputs": [
      {
       "metadata": {},
       "output_type": "pyout",
       "prompt_number": 33,
       "text": [
        "<matplotlib.text.Text at 0x10b79cd50>"
       ]
      },
      {
       "metadata": {},
       "output_type": "display_data",
       "png": "[encoded data removed]",
       "text": [
        "<matplotlib.figure.Figure at 0x10b496390>"
       ]
      }
     ],
     "prompt_number": 33
    },
    {
     "cell_type": "markdown",
     "metadata": {},
     "source": [
      "### Example 3\n",
      "\n",
      "Suppose that $p(x)$ is a Student's t density with 4 degrees of freedom\n",
      "$$ p(x) = \\frac{3}{8} ( 1+ \\frac{x^2}{4})^{-5/2} $$\n",
      "\n",
      "If we take \n",
      "\n",
      "$$ p(x,y) = \\frac{4}{\\sqrt{2\\pi}} y^{3/2} \\exp{ \\left\\{  -y \\left( \\frac{x^2}{2}+2\\right) \\right\\} } $$\n",
      "\n",
      "for $0 < y < \\infty$, \n",
      "then we can show that \n",
      "\n",
      "$$X|Y = y \\,\\,  \\sim N(0, 1/y) $$ and that \n",
      "$$Y|X = x \\,\\, \\sim \\rm{Gamma}(5/2, x^2/2+2)$$\n",
      "\n"
     ]
    },
    {
     "cell_type": "code",
     "collapsed": false,
     "input": [
      "#We leave the implementation of this as an exercise"
     ],
     "language": "python",
     "metadata": {},
     "outputs": [],
     "prompt_number": 37
    },
    {
     "cell_type": "markdown",
     "metadata": {},
     "source": [
      "## Data Augmentation is a Markov Chain Monte Carlo\n",
      "\n",
      "Now lets look at the DA closer. Let $p(y) = \\int p(x,y) dx$.\n",
      "Now lets define a function \n",
      "\n",
      "$$ k(x'|x) = \\int_Y p(x'|y) \\, p(y|x)\\, dy $$\n",
      "\n",
      "And since we are dealing with probability densities, $k$ is always positive.\n",
      "\n",
      "Also note \n",
      "\n",
      "\\begin{eqnarray}\n",
      "  \\int k(x'|x) dx' = \\int_{X} \\int_Y p(x'|y) \\, p(y|x) \\, dy \\, dx' = \\int_Y p(y|x) \\left[ \\int_X p(x'|y) dx' \\right] dy  = \\int_Y p(y|x) dy  = 1\n",
      "  \\end{eqnarray}\n",
      "  \n",
      "Therefore for each fixed $x$, $k(x'|x)$ is a nonnegative and integrates to 1. The function $k$ therefore\n",
      "could be a Markov Chain transition density and if the current state is $x_n$ then the density of the next state \n",
      "is $k(.|x_n)$. \n",
      "\n",
      "Also  note that the $k(x'|x)\\, p(x)$ is symmetric \n",
      "in $(x,x')$. \n",
      " \n",
      "$$ k(x'|x)\\, p(x) = p(x) \\int_Y p(x'|y) \\, p(y|x) \\, dy = \\int_Y \\frac{p(x',y)\\, p(x,y) }{p(y)} \\, dy. $$\n",
      "\n",
      "The rhs is symmetric in  $(x,x')$ and so is $ k(x'|x) p(x)$. This also    implies that the Markov chain generated with transition probability $k(x'|x)$ is reversible.  \n",
      "\n",
      "Integrating both sides with respect to x \n",
      "\n",
      "$$ \\int_X k(x'|x)\\, p(x) dx  = p(x') $$\n",
      "\n",
      "This implies that when $X_0 \\sim p(x)$ then $X_1$ is also $p(x)$. Actually\n",
      "since $X$ is a time homogenous Markov chain, then \n",
      "$X_n\\sim p(x)$ and $X_{n+1} \\sim p(x)$. \n",
      "\n",
      "\n",
      "Now consider the practical issue of simulating the Markov chain $X$. Given that the current\n",
      "state of the chain is $X_n = x$, how do we draw $X_{n+1}$ from the $k(.|x)$? The answer is\n",
      "based on a sequential simulation technique that we now describe. \n",
      "\n",
      "Suppose we would like\n",
      "to simulate a random vector from some pdf, $p_U(u)$, but we cannot do this directly. Suppose\n",
      "further that $p_U$ is the u-marginal of the joint pdf $p_{U,V} (u, v)$ and that we have the ability to\n",
      "make draws from $p_V(v)$ and from $p_{U,V} (u,v)$ for fixed $v$. If we draw $V\\sim p_V(.)$, and then,\n",
      "conditional on $V = v$, we draw $U \\sim p_{U,V}(.|v)$, then the observed pair, $(u, v)$, is a draw from\n",
      "$p_{U,V}$, which means that $u$ is a draw from $f_U$. We now can \n",
      "explain how it is used to simulate from $k(.|x)$.\n",
      "\n",
      "Define \n",
      "\n",
      "$$ h(x',y| x) = p(x'|y) p(y|x) $$\n",
      "\n",
      "We apply the procedure above with $k(.|x)$ and $h(.,.|x)$ playing the roles of \n",
      "$p_U(.)$ and $p_{U,V}(.,.)$ respectively. We of course need the marginal of\n",
      "$h(x', y|x)$ which is $p(y|x)$ and the conditional density of $X'$ given $Y=y$  which is\n",
      "\n",
      "$$ \\frac{ h(x',y|x) }{p(y|x)} = p(x'|y) $$\n",
      "\n",
      "which gives us the procedure above:\n",
      "\n",
      "1. Draw $Y\\sim p_{Y|X}(.|x)$ and call the observed value y\n",
      "2. Draw $X_{n+1} \\sim p_{X|Y}(.|y)$  "
     ]
    },
    {
     "cell_type": "code",
     "collapsed": false,
     "input": [],
     "language": "python",
     "metadata": {},
     "outputs": []
    }
   ],
   "metadata": {}
  }
 ]
}