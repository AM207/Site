{
 "metadata": {
  "name": "",
  "signature": "sha256:a4c8b23867cddf0624bd076a4a46cc39256a7ddeea3917222058247cc280e0c8"
 },
 "nbformat": 3,
 "nbformat_minor": 0,
 "worksheets": [
  {
   "cells": [
    {
     "cell_type": "markdown",
     "metadata": {},
     "source": [
      "# Lecture 5: Bayesian Formalism 1\n",
      "### Frequentist approach and Monte Carlo\n",
      "\n",
      "AM207: Pavlos Protopapas, Harvard University\n",
      "\n",
      "Feb 11, 2014\n",
      "\n",
      "------\n"
     ]
    },
    {
     "cell_type": "markdown",
     "metadata": {},
     "source": [
      "$\\newcommand{\\Lik}{p(D|\\theta)}$\n",
      "\n",
      "#Introduction \n",
      "We have seen the basic Monte Carlo techniques and before we embark into MCMC  the question is  how useful \n",
      "these methods are for the purpose of modeling or data analysis. In these lectures,\n",
      "we will introduce these methods in the context of Bayesian data analysis.\n",
      "\n",
      "The goal in many cases is to find parameter values in a probabilistic model that best explain the data. \n",
      "\n",
      "Let's assume that the data we want to analyze can be represented by $D$, and\n",
      "that the parameters of a model are represented by $\\theta$. Let's also assume that we have a\n",
      "generative model that is designed to explain the data. We can then\n",
      "defne the likelihood $p(D|\\theta)$ of the model to describe how likely the data is according\n",
      "to some instantiation of the model in terms of its model parameters $\\theta$. \n",
      "The likelihood gives an explanation of the data in terms of\n",
      "the parameters.\n",
      "\n",
      "The primary goal in any modeling analysis is to choose parameters of a model such that\n",
      "we can best explain the data with the model. There are a number of approaches to choose\n",
      "model parameters. \n",
      "\n",
      "\n",
      "# FREQUENTIST STATISTICS\n",
      "\n",
      "\n",
      "In frequentist approach, a parameter estimate is computed by using some function on the data $D$. \n",
      "In the world of frequentist there is a true vallue of the parameter, which is fixed, however  the data are random. This is the exact opposite of the Bayesian approach we see below.\n",
      "\n",
      "In other words, assuming that a given distribution is a  description of the model, there is a true parameter $\\theta^{\\star}$ that desrcibes the problem. Given the data set we have, we can estimate the parameter $\\hat{\\theta}$ and if we could replicate the experiment many times we could use a sample of $\\hat{\\theta}$ and from those build the sampling distribution which can be used to estimate the error on the parameter estimation. By sampling $M$ Data sets $D_i$, each of size $N$, from some true model characterized by $\\theta^{\\star}$ we are able to calculate  $\\hat{\\theta}_i$, one for each dataset. And as $M\\rightarrow \\infty$ the distribution of $\\hat{\\theta}$'s becomes narrower and narrower and approaches $\\theta^{\\star}$. \n",
      "\n",
      "## Maximum Likelihood\n",
      "A  basic approach to parameter estimation is maximum likelihood (ML). The goal here\n",
      "is to find the parameter estimates that maximize the likelihood. Equivalently and numerically more stable is to find the minimum\n",
      "of the minus log-Likelihood of the data given the model.\n",
      "\n",
      "The likelihood gives us a measure of how likely it is to observe values $D={d_1,...,d_n}$ given the parameters $\\theta$. \n",
      "The likelihood for a given datum is $ p(d_i|\\theta)$ and for all the data asumming iid is\n",
      "\n",
      "$$L=\\Lik = \\prod_{i=1}^{n} p(d_i|\\theta)$$\n",
      "\n",
      "\n",
      "How likely are the observations if the model is true?\n",
      "This corresponds to maximizing the likelihood as a function of $\\theta$ for a given set of observations. \n",
      "\n",
      "$$ \\theta_{ML} = \\arg \\! \\max_{\\theta} \\Lik $$\n",
      "\n",
      "where the values $\\theta$ can take any values. The ML estimate corresponds\n",
      "to the values of the parameters that best agree with the actually observed data. \n",
      "This is a  very straightforward way of estimating parameters in a probabilistic model.\n",
      "In some cases the actual value of $\\theta_{ML} $ can be estimated analytically \n",
      "but in many  case, numerical techniques that explore the gradient of the likelihood function \n",
      "to find the solution such as Simulated Annealing or Genetic Algorithms. \n",
      "This estimation procedure does not correspond to a Bayesian approach. \n",
      "\n",
      "## Confidence intervals \n",
      "How is this related to the statement above about ensemble of data sets? We usually only have one dataset. As mentioned above the distribution of $\\hat{\\theta}$ are used to estimate the error on the estimate, or in simple words the standard deviation of the estimate. \n",
      "\n",
      "If the likelihood we use is a simple one or has nice algebraic properties, we can just use those to calculate confidence intervals. Confidence intervals tells us the range of values for a given confidence that the actual value of the parameter is within that interval.  For instance, we want to find the range such that the estimator in 90% of the samples would be contained in it. \n",
      "\n",
      "But many a time our likelihoods  are not analytically tractable. In this case resampling the ONE dataset we have can be done using Monte Carlo tecnigues. Resampling involves making new samples from the observations, \"each of which can be analyzed in the same way to see how the statistics depend on plausible random variations in the observations\". One way to do this is the Bootstrap method (see example in Lab).\n"
     ]
    },
    {
     "cell_type": "markdown",
     "metadata": {},
     "source": [
      "$\\newcommand{\\bx}{{\\bf x}}\n",
      "\\newcommand{\\bX}{{\\bf X}}\n",
      "\\newcommand{\\by}{{\\bf y}}\n",
      "\\newcommand{\\bw}{{\\bf w}}$\n",
      "\n",
      "\n",
      "### Example: Linear regression\n",
      "The goal  is to fit a straight line. \n",
      "\n",
      "$$ y = ax+b+\\epsilon $$\n",
      "\n",
      "where $\\epsilon \\sim N(0, \\sigma)$. \n",
      "\n",
      "Let ${\\bf x} =(x_1, x_2, \\ldots, x_n)$  and\n",
      "$ {\\bf y} =(y_1, y_2, \\ldots, y_n)$ are the actual data. \n",
      "\n",
      "For iid data the likelihood is\n",
      "\\begin{eqnarray} \n",
      "\\Lik &=& p(\\by|x,\\bw) = \\prod_{i=1}^{n} p(y_i| x_i, a, b) = \\frac{1}{\\sqrt{2\\pi}\\sigma}  \\prod_{i=1}^{n} \n",
      "   \\exp{ \\left( -\\frac{(y_i- (a \\, x_i+b))^2}{2\\sigma^2} \\right)}  \\nonumber \\\\ \n",
      "   &=& \\frac{1}{\\sqrt{2\\pi}\\sigma} \\exp{\\left( -\\frac{ \\sum_i(y_i-(a\\,x_i +b))^2 }{2\\sigma^2} \\right)} \n",
      "   \\end{eqnarray}\n",
      "   \n",
      "  The maximum of the likelihood and the log of the likelihood are identical and therefore\n",
      "   it is more convenient to work with  \n",
      "\n",
      "$$ {\\cal L} =\\log(L)  \\propto  -\\frac{ \\sum_i [y_i-(a\\,x_i +b)]^2 }{2\\sigma^2} $$\n",
      "\n",
      "Taking the derivatives with respect to $a$ and $b$ and setting them to zero, \n",
      "we can solve for $a$ and $b$ \n",
      "\n",
      "$$ a_{ML} = \\frac{n \\sum_i x_i y_i -\\sum_i x_i \\sum_i y_i}{n  \\sum x_i^2 -(\\sum_i x_i)^2} $$\n",
      "\n",
      "$$ b_{ML} = \\frac{1}{n} \\left[ \\sum_i y_i - a\\sum_ix_i^2 \\right] $$ \n"
     ]
    },
    {
     "cell_type": "code",
     "collapsed": false,
     "input": [
      "%matplotlib inline\n",
      "import numpy as np\n",
      "import matplotlib.pylab as plt \n",
      "import seaborn as sn\n",
      "\n",
      "from scipy.stats import norm\n"
     ],
     "language": "python",
     "metadata": {},
     "outputs": [],
     "prompt_number": 1
    },
    {
     "cell_type": "markdown",
     "metadata": {},
     "source": [
      "# BAYESIAN INFERENCE\n",
      "A Bayesian approach to parameter estimation is to treat $\\theta$ as a random variable with an associate\n",
      "prior distribution $p(\\theta)$. The prior distribution tells us our belief on the\n",
      "parameter values are when we have not observed any data yet. In a Bayesian context, the\n",
      "goal is to estimate the posterior distribution over parameters given our data. This is also\n",
      "known as posterior inference. In other words, we would like to know $p(\\theta|D)$. To do so we \n",
      "use the Bayes rule to evaluate this conditional probability with:\n",
      "\n",
      "\\begin{equation} \n",
      "p(\\theta|D)  = \\frac{\\Lik \\, p(\\theta)}{p(D)} \n",
      "\\end{equation}\n",
      "\n",
      "Note that $p(D)$ is independent of $\\theta$ and therefore we can ignore\n",
      "any constant of proportionality and just write:\n",
      "\n",
      "$$ p(\\theta|D)  \\propto \\Lik \\, p(\\theta) $$\n",
      "\n",
      "\n",
      "## Maximum a posteriori\n",
      "\n",
      "\n",
      "The posterior distribution is specified by a simple product of the likelihood (how\n",
      "likely is the data given the model that uses these parameter estimates) and the prior. \n",
      "In Bayesian data analysis, one way to\n",
      "apply a model to data is to find the maximum a posteriori (MAP) parameter values.\n",
      "The goal in this case is to find the parameter  that maximize the posterior probability of the\n",
      "parameters given the data. In other words, we find the mode of the posterior distribution.\n",
      "This corresponds to:\n",
      "\n",
      "\\begin{eqnarray}\n",
      " \\theta_{{\\rm MAP}} &=& \\arg \\max_{\\theta} \\, p(\\theta | D)  \\nonumber \\\\ \n",
      "                               & =& \\arg \\max_{\\theta}  \\frac{\\Lik \\, p(\\theta)}{p(D)}  \\nonumber \\\\ \n",
      "                               & =& \\arg \\max_{\\theta}  \\, \\Lik \\, p(\\theta) \\nonumber \\\\ \n",
      "\\end{eqnarray}\n",
      "\n",
      "This looks similar to the maximum likelihood estimation procedure. The difference is that\n",
      "the prior we set over the parameters does influence the parameter estimation. \n",
      "Although it seems that the prior should not play a role in parameter\n",
      "estimation, there are some good reasons to prefer the MAP over the ML estimation, especially\n",
      "when only few data points are available or when the data is degenerate in some way (e.g.,\n",
      "the data shows no variation). There is a large literature on this, and we will not review it\n",
      "here."
     ]
    },
    {
     "cell_type": "markdown",
     "metadata": {},
     "source": [
      "## Posterior Sampling\n",
      "What we are really interested in Bayesian approach is posterior sampling. \n",
      "With the MAP approach, we get a single set of parameter values for a model. Therefore,\n",
      "we are characterizing the posterior distribution with the mode of this distribution. This \n",
      "is  very clear and useful but it has some drawbacks. Suppose the\n",
      "posterior distribution is multimode. We should be interested to know \n",
      "the other high probability parameter values. \n",
      "Also, there are cases that there are degeneracies. For example a model with two parameters A\n",
      "and B and we achieve high posterior probability by either setting A to a high value and B\n",
      "to a low value or the other way around, setting A to a low and B to a high value. In a MAP\n",
      "estimate, we are not getting an understanding of such parameter correlations, but we can\n",
      "measure such correlations using posterior sampling.\n",
      "In the general Bayesian approach, the goal is to characterize the full posterior\n",
      "distribution and not to simply find the mode of this distribution. In some cases, we might\n",
      "be able to find an analytic expression for the posterior distribution. However, in many cases,\n",
      "we have to resort to sampling techniques, such as inverse transform, rejection method, MCMC etc, to get samples from the posterior\n",
      "distribution. These samples can be used to calculate a number of things, such as means,\n",
      "variances, marginal distributions, conditional distributions,  correlations amongst parameters etc. \n",
      "\n",
      "MCMC is the workhorse for sampling posterior distribution. Therefore, all the methods that we will be discussing in the coming lectures can be used for the problem of posterior inference. "
     ]
    },
    {
     "cell_type": "markdown",
     "metadata": {},
     "source": [
      "### Example: Linear regression of one dimensional straight line\n",
      "Again, the goal  is to fit a straight line. \n",
      "\n",
      "$$ y = ax+b+\\epsilon$$\n",
      "\n",
      "where $\\epsilon \\sim N(0, \\sigma)$\n",
      "and predict $y$ at various $x$'s. \n",
      "\n",
      "Let ${\\bf x} =(x_1, x_2, \\ldots, x_n)$  and\n",
      "$ {\\bf y} =(y_1, y_2, \\ldots, y_n)$ are the actual data. \n",
      "\n",
      "Using Bayesian formalism, we want to estimate the posteriors of the parameter\n",
      "$\\theta =a$ assuming $b=0$. \n",
      "\n",
      "We use  priors $a \\sim N(0, \\sigma_a)$.\n",
      "\n",
      " \n",
      "The implementation below estimates the posterior using Bayes rule  and also samples \n",
      "directly from the product of the likelihood (same as the one in the MLE section above) and prior using the rejection method. \n",
      "\n"
     ]
    },
    {
     "cell_type": "code",
     "collapsed": false,
     "input": [
      "plt.figure(figsize=[8,6])\n",
      "\n",
      "## GENERATE SYNTHETIC DATA\n",
      "n=9\n",
      "a = 1.2 # SLOPE\n",
      "b = 0 # INTERSECTION \n",
      "\n",
      "s = 1.5 # STD OF ERROR \n",
      "\n",
      "x = np.random.uniform(low=-3, high=7, size=n) \n",
      "y = a*x+ b + s*np.random.randn(n)\n",
      "\n",
      "\n",
      "#plt.subplot(2,2,2) \n",
      "plt.errorbar(x,y, yerr=s, fmt='o')\n",
      "plt.xlabel('x')\n",
      "plt.ylabel('y')\n",
      "\n",
      "xr = np.linspace(-3, 7, 100) \n",
      "plt.plot(xr, a*xr)\n"
     ],
     "language": "python",
     "metadata": {},
     "outputs": [
      {
       "metadata": {},
       "output_type": "pyout",
       "prompt_number": 2,
       "text": [
        "[<matplotlib.lines.Line2D at 0x109350f50>]"
       ]
      },
      {
       "metadata": {},
       "output_type": "display_data",
       "png": "[encoded data removed]",
       "text": [
        "<matplotlib.figure.Figure at 0x109326290>"
       ]
      }
     ],
     "prompt_number": 2
    },
    {
     "cell_type": "markdown",
     "metadata": {},
     "source": [
      "Using priors with mean 0 and $\\sigma_a^2=4$. $a \\sim N(0, \\sigma_a)$"
     ]
    },
    {
     "cell_type": "code",
     "collapsed": false,
     "input": [
      "plt.figure(figsize=[6,4])\n",
      "## ANALYTIC SOLUTION TO THE MAXIMUM LIKELIHOOD \n",
      "a = (n*np.sum(x*y)-np.sum(x)*np.sum(y))/(n*np.sum(x**2)-(np.sum(x))**2)\n",
      "b = (1/n)*(np.sum(y)-a*np.sum(x))\n",
      "print a, b\n",
      "# ======================================\n",
      "## PLOT THE PDF OF THE PRIOR\n",
      "# ======================================\n",
      "I = np.eye(2)\n",
      "\n",
      "## PRIOR \n",
      "sig2 = 4   # WIDTH OF THE PRIOR\n",
      "\n",
      "p_w = lambda (w) : (1/np.sqrt(2*np.pi*sig2))*np.exp( - (w**2)/(2*sig2))\n",
      "\n",
      "asp = np.linspace(-5,5, 100)\n",
      "\n",
      "P=p_w(asp)\n",
      "\n",
      "plt.plot(asp, P)\n",
      "plt.xlabel('slope (a)')\n",
      "plt.title('Prior for a')"
     ],
     "language": "python",
     "metadata": {},
     "outputs": [
      {
       "output_type": "stream",
       "stream": "stdout",
       "text": [
        "1.27381427147 -0\n"
       ]
      },
      {
       "metadata": {},
       "output_type": "pyout",
       "prompt_number": 3,
       "text": [
        "<matplotlib.text.Text at 0x109384d90>"
       ]
      },
      {
       "metadata": {},
       "output_type": "display_data",
       "png": "[encoded data removed]",
       "text": [
        "<matplotlib.figure.Figure at 0x109361810>"
       ]
      }
     ],
     "prompt_number": 3
    },
    {
     "cell_type": "code",
     "collapsed": false,
     "input": [
      "plt.figure(figsize=[12,8])\n",
      "\n",
      "## PLOT THE PDF OF THE LIKELIHOOD\n",
      "N=1000\n",
      "asp = np.linspace(-1,3, N)\n",
      "\n",
      "p_l = lambda (asp) : (1/np.sqrt(2*np.pi*s**2))*np.exp( - (np.sum( x*x*(y/x-asp)**2)/(2*s**2)))\n",
      "\n",
      "P=np.zeros(N)\n",
      "\n",
      "for k in np.arange(0, asp.size):\n",
      "    P[k] = p_l(asp[k])\n",
      "\n",
      "\n",
      "plt.subplot(2,2,1)\n",
      "plt.plot(asp, P)\n",
      "plt.xlabel('slope')\n",
      "plt.ylabel('Likelihood')\n",
      "\n",
      "plt.title('Likelihood');\n",
      "        \n",
      "\n"
     ],
     "language": "python",
     "metadata": {},
     "outputs": [
      {
       "metadata": {},
       "output_type": "display_data",
       "png": "[encoded data removed]",
       "text": [
        "<matplotlib.figure.Figure at 0x101dcab50>"
       ]
      }
     ],
     "prompt_number": 4
    },
    {
     "cell_type": "code",
     "collapsed": false,
     "input": [
      "print np.mean(y/x), np.dot(y, 1/x), np.sqrt(s**2/(np.dot(1/x,1/x)))"
     ],
     "language": "python",
     "metadata": {},
     "outputs": [
      {
       "output_type": "stream",
       "stream": "stdout",
       "text": [
        "0.578155123387 5.20339611048 0.616261339435\n"
       ]
      }
     ],
     "prompt_number": 5
    },
    {
     "cell_type": "code",
     "collapsed": false,
     "input": [
      "plt.figure(figsize=[8,6])\n",
      "## NOW SAMPLE FROM THE POSTERIOR USING REJECTION METHOD \n",
      "N=30000\n",
      "asp = np.random.uniform(low=-10, high=10, size=N)\n",
      "\n",
      "\n",
      "\n",
      "post = lambda(wsp): p_l(wsp) * p_w(wsp) \n",
      "\n",
      "ptr = np.zeros(N)\n",
      "\n",
      "for k in np.arange(0, N):\n",
      "    ptr[k]= post(asp[k]) \n",
      "\n",
      "\n",
      "ysp =  np.random.uniform(low=0, high=np.max(ptr), size=N)\n",
      "    \n",
      "idx = (ysp<ptr)\n",
      "\n",
      "\n",
      "g=plt.hist(asp[idx], 20);\n",
      "\n",
      "plt.title('Posterior');"
     ],
     "language": "python",
     "metadata": {},
     "outputs": [
      {
       "metadata": {},
       "output_type": "display_data",
       "png": "[encoded data removed]",
       "text": [
        "<matplotlib.figure.Figure at 0x109800a10>"
       ]
      }
     ],
     "prompt_number": 6
    },
    {
     "cell_type": "code",
     "collapsed": false,
     "input": [
      "print np.sum(idx), np.mean(asp[idx])\n"
     ],
     "language": "python",
     "metadata": {},
     "outputs": [
      {
       "output_type": "stream",
       "stream": "stdout",
       "text": [
        "531 1.15614248869\n"
       ]
      }
     ],
     "prompt_number": 7
    },
    {
     "cell_type": "markdown",
     "metadata": {},
     "source": [
      "### Example: Infectious disease in a small city\n",
      "Suppose $\\theta$ is the fraction of infected individual in a small city. \n",
      "A small sample of $n=20$ individual from the city are checked and \n",
      "the total number of people infected is $k=3$.   \n",
      "Question: What is the fraction of infected individuals?\n",
      "\n",
      "For each individual the probability of being infected is $\\theta$ so the total \n",
      "number of infected people given a sample of 20 is given \n",
      "by a binomial. \n",
      "\n",
      "$$\\Lik = p(n,k|\\theta) = B(n,k, \\theta)=\\frac{n!}{k! (n-k)! } \\, \\theta^k \\, (1-\\theta)^{(n-k)} $$\n",
      "\n",
      "Studies from other cities shows that $\\theta$ varies from 0.05 to 0.20 \n",
      "with an average value  of 0.10. We can choose any prior that encapsulates \n",
      "this information. In our example (the reasons will be obvious later) we \n",
      "choose as prior the beta distribution and choose $\\alpha=2$ and $\\beta=20$\n",
      "such as the mean of the prior is 0.10 and the range to be consistent with\n",
      "what we know from other cities (mean of Beta is $\\frac{\\alpha}{\\alpha+\\beta}$),\n",
      "\n",
      "$$ p(\\theta) = {\\rm Beta}(\\theta,\\alpha, \\beta) = \\frac{\\theta^{\\alpha-1} (1-x)^{\\beta-1} }{B(\\alpha, \\beta)} $$\n",
      "where $B(\\alpha, \\beta)$ is independent of $\\theta$ and it is the normalization factor.\n",
      "\n",
      "From Bayes theorem, the posterior for $\\theta$ is \n",
      "\n",
      "$$ p(\\theta|D) \\propto  p(\\theta) \\, p(n,k|\\theta)  =  B(n,k, \\theta) \\,  {\\rm Beta}(\\theta,\\alpha, \\beta)  $$\n",
      "\n",
      "which can be shown to be \n",
      "\n",
      "$$ p(\\theta) p(n,k|\\theta) = {\\rm Beta}(\\theta, \\alpha+k, \\beta+n-k) =  {\\rm Beta}(\\theta, 5, 37) $$\n",
      "\n",
      "\n",
      "\n",
      "Sometimes we may want to summarize other aspects of a posterior distribution. For example \n",
      "we may want to compare two or more populations. In that case we may be interested in the posterior \n",
      "distribution of $\\theta_1 - \\theta_2$, $\\theta_1/\\theta_2$ or $\\max\\{\\theta_1,\\ldots, \\theta_m\\}$. If we can \n",
      "generate random samples from these distributions, then all of these posterior quantities can be \n",
      "approximated to an arbitrary degree of precision using MC methods. "
     ]
    },
    {
     "cell_type": "code",
     "collapsed": false,
     "input": [
      "plt.figure(figsize=[10,8])\n",
      "## INITIALIZING\n",
      "n = 20 # number of data\n",
      "N =5000 # samples\n",
      "k=3  # binomial k\n",
      "\n",
      "## THE LIKELIHOOD:BINOMIAL \n",
      "theta=0.1\n",
      "\n",
      "liks  = np.random.binomial( n, theta, [N,1]);\n",
      "\n",
      "plt.subplot(2,2,1)\n",
      "plt.hist(liks, 20)\n",
      "plt.title('Likelihood sampling over k for $\\\\theta$=0.1, n=20')\n",
      "\n",
      "plt.xlabel('k')\n",
      "\n",
      "# I need samples of theta\n",
      "lik_theta = lambda (theta): theta**k * (1-theta)**(n-k)\n",
      "#use rejection to get this distribution \n",
      "X=np.random.uniform(low=0, high=1, size=N)\n",
      "Y=np.random.uniform(low=0, high=0.000213, size=N)\n",
      "Yt = lik_theta(X) \n",
      "\n",
      "Xa = X[Y<Yt]\n",
      "plt.subplot(2,2,2)\n",
      "plt.hist(Xa, 20)\n",
      "plt.xlabel('$\\\\theta$')\n",
      "plt.title('Likelihood over $\\\\theta$')\n",
      "\n",
      "## PRIOR\n",
      "alpha=2\n",
      "beta=20\n",
      "prs = np.random.beta(alpha, beta, [N,1]);\n",
      "\n",
      "plt.subplot(2,2,3)\n",
      "plt.hist(prs, 20)\n",
      "plt.title('Prior Samples')\n",
      "plt.xlabel('$\\\\theta$')\n",
      "## POSTERIOR EXACT\n",
      "\n",
      "posts = np.random.beta(alpha+k, beta+n-k, [N,1]);\n",
      "plt.subplot(2,2,4) \n",
      "plt.hist(posts, 20)\n",
      "plt.title('posterior sample')\n",
      "plt.xlabel('$\\\\theta$');\n",
      "plt.tight_layout()"
     ],
     "language": "python",
     "metadata": {},
     "outputs": [
      {
       "metadata": {},
       "output_type": "display_data",
       "png": "[encoded data removed]",
       "text": [
        "<matplotlib.figure.Figure at 0x109800b50>"
       ]
      }
     ],
     "prompt_number": 8
    },
    {
     "cell_type": "markdown",
     "metadata": {},
     "source": [
      "## Conjugate Priors\n",
      "In the previous examples we saw one example (prevalence of an infectious disease in a small city) in which \n",
      "the prior distribution for an unknown parameter $\\theta$ led to a posterior distribution \n",
      "that is  in the same family as the prior probability distribution. \n",
      "The prior and posterior are then called __conjugate distributions__, and the prior is called a __conjugate prior__ for the likelihood. \n",
      "We will return to this later. "
     ]
    },
    {
     "cell_type": "markdown",
     "metadata": {},
     "source": [
      "## The Normal Model\n",
      "\n",
      "Perhaps the most useful and most used probability model for data analysis is the normal distribution. \n",
      " There are several reasons for this, one being the central limit theorem, and another being the normal\n",
      " model is simple model with parameters for the population mean and variance.  What we are interested \n",
      " is how to make posterior inference on the population mean and variance parameters. \n",
      " \n",
      " A random variable $Y$ is said to be normally distributed with mean $\\mu$ and variance $\\sigma^2$ if the \n",
      " density of $Y$ is given by \n",
      " $$ p(y|\\mu, \\sigma^2) =  \\frac{1}{ \\sqrt{ 2 \\pi \\sigma^2}} e^{-( \\frac{y-\\mu}{2 \\sigma})^2} $$\n",
      " \n",
      " The importance of the normal distribution stems primarily from the central limit theorem,\n",
      " which says that under very general conditions, the sum (or mean) of a set of random\n",
      " variables is approximately normally distributed. In practice, this means that the \n",
      " normal sampling model will be appropriate for data that result from the additive effects of a large\n",
      " number of factors.\n",
      " \n",
      " For example the height in inches of male students at Harvard is observed to follow the \n",
      " normal distribution. The variability of the heights among the students  may be heterogenous in nature,\n",
      " depending on a number of factors controlling the human growth (genetics, diet, stress etc). \n",
      " If the effect of these factors are approximately additive, then each height measurement $y_i$ is roughtly \n",
      " equal to a linear combination of a large number of terms. The central limit theorem says that the \n",
      " empirical distribution of $y_i, \\ldots, y_n$ will look like a normal distribution.\n",
      " \n",
      "Now suppose our model is $\\{y_1, \\ldots, y_n|\\mu, \\sigma^2 \\} \\sim N(\\mu, \\sigma^2)$ then\n",
      "the joint distribution is \n",
      "\n",
      "$$\n",
      "p(y_1, \\ldots, y_n| \\mu, \\sigma^2) = \n",
      "\\prod_{i=1}^{n} p(y_i| \\mu, \\sigma^2)=\\prod_{i=1}^{n}  \\frac{1}{ \\sqrt{ 2 \\pi \\sigma^2}} e^{-( \\frac{(y_i-\\mu)^2}{2\\sigma^2})} = \n",
      "\\frac{1}{ \\sqrt{ 2 \\pi \\sigma^2}}   \\exp \\left\\{  - \\frac{1}{2}  \\sum_i \\frac{(y_i-\\mu)^2}{\\sigma^2} \\right\\} \n",
      "$$\n",
      "\n",
      "Expanding this out \n",
      "\n",
      "$$\\sum_{i}^{n}  \\frac{(y_i-\\mu)^2}{\\sigma^2}  = \\frac{1}{\\sigma^2} \\sum_i y_i^2 - 2 \\frac{\\mu}{\\sigma^2} \\sum_i y_i + n \\frac{\\mu^2}{\\sigma^2} $$\n",
      "\n",
      "and one can see that the sums,  $\\{ \\sum y_i^2 , \\sum y_i \\} $, make up a two dimensional sufficient statistics.\n",
      "\n",
      "We now break the problem into two one parameter problems. Firstly lets see the posterior of $\\mu$ assuming we \n",
      "know $\\sigma^2$ and then the other way.  For any conditional prior the posterior \n",
      "\n",
      "$$ p( \\mu |  y_1, \\ldots, y_n, \\sigma^2)  \\propto p(\\mu| \\sigma^2) \\,e^{ - \\frac{1}{2\\sigma^2} \\sum (y_i - \\mu)^2 }$$\n",
      "\n",
      "For a prior to be a conjugate the resulting posterior must be in the same class. \n",
      "\n",
      "Obviously the simplest conjugate then is the normal itself. \n",
      "\n",
      "Say \n",
      "$$ p(\\mu | \\sigma^2) = \\exp \\left\\{ -\\frac{1}{2 \\tau^2} (\\hat{\\mu}-\\mu)^2 \\right\\} $$\n",
      "\n",
      "then the posterior is \n",
      "\n",
      "$$  p( \\mu |  y_1, \\ldots, y_n, \\sigma^2) \\propto \\exp \\left\\{ -\\frac{a}{2} (\\mu-b/a)^2 \\right\\} $$\n",
      "where \n",
      "$$ a = \\frac{1}{\\tau^2} + \\frac{n}{\\sigma^2} , \\;\\;\\;\\;\\; b = \\frac{\\hat{\\mu}}{\\tau^2} + \\frac{\\sum y_i}{\\sigma^2} $$\n",
      "This is a normal density curve with $1/\\sqrt{a}$ playing the role of the \n",
      "standard deviation and $b/a$ playing the role of the mean. Re-writing this, \n",
      "\n",
      "$$ p( \\mu |  y_1, \\ldots, y_n, \\sigma^2)  \\propto \\exp\\left\\{ -\\frac{1}{2} \\left( \\frac{\\mu-b/a}{1/\\sqrt(a)}\\right)^2 \\right\\} $$\n",
      "\n",
      "\n",
      "Define $\\kappa = \\sigma^2 / \\tau^2 $ to be the variance of the sample model  in units of variance\n",
      "of our prior belief (prior distribution) then the posterior mean  \n",
      "\n",
      "$$\\mu_p = \\frac{ \\kappa}{\\kappa + n }  \\hat{\\mu} + \\frac{n}{\\kappa + n} \\bar{y} $$\n",
      "\n",
      "which is a weighted average of prior mean and sampling mean.\n",
      "The variance is \n",
      "\n",
      "$$ \\tau_p^2 = \\frac{1}{1/\\tau^2+n/\\sigma^2} $$\n",
      "or better \n",
      "\n",
      "$$ \\frac{1}{\\tau_p^2} = \\frac{1}{\\tau^2} + \\frac{n}{\\sigma^2} $$\n",
      "\n",
      "\n",
      "## Example: Moth wing \n",
      "We have data on the wing length in millimeters of a nine \n",
      "members of a particular species of moth.  We wish to make inferences from those measurements on the \n",
      "population mean $\\mu$.  Other studies show the wing length to be around 19 mm. We also \n",
      "know that the length must be positive. \n",
      "We can choose a prior that is normal and most of the density is above zero ($\\mu=19, \\tau = 10$). \n",
      "The measurements were: 16.4, 17.0, 17.2, 17.4, 18.2, 18.2, 18.2, 19.9, 20.8 giving $\\bar{y}=18.14$. \n",
      "Using the formulas above we have ($\\kappa =  \\sigma^2/\\tau^2 = \\sigma^2/100$): \n",
      "$$ \\mu_p = \\frac{\\sigma^2/100}{\\sigma^2/100+9 } 19  +  \\frac{9}{\\sigma^2/100+9} 18.14     $$\n",
      "\n",
      "$$  1/ \\tau_p^2 = 1/100+9/\\sigma^2 $$\n",
      "\n",
      "Remember this was derived assuming we knew $\\sigma$. Say $\\sigma^2 = s^2 = 1.9928$ then \n",
      "$$p(\\theta|y_1 \\ldots y_9, \\sigma^2 = 1.9928 ) \\sim N(18.14, 0.47) $$\n",
      "\n",
      "\n"
     ]
    },
    {
     "cell_type": "code",
     "collapsed": false,
     "input": [
      "Y = [16.4, 17.0, 17.2, 17.4, 18.2, 18.2, 18.2, 19.9, 20.8]\n",
      "# Prior mean\n",
      "mu_prior = 19.5\n",
      "# prior std\n",
      "tau = 10 \n",
      "N = 10000"
     ],
     "language": "python",
     "metadata": {},
     "outputs": [],
     "prompt_number": 9
    },
    {
     "cell_type": "code",
     "collapsed": false,
     "input": [
      "#Data Quantities\n",
      "sig = np.std(Y) # assume that is the value of KNOWN sigma (in the likelihood)\n",
      "mu_data = np.mean(Y)\n",
      "n = len(Y)\n",
      "kappa = sig**2 / tau**2\n",
      "sig_post =1./( 1./tau**2 + n/sig**2);\n",
      "# posterior mean\n",
      "mu_post = kappa / (kappa + n) *mu_prior + n/(kappa+n)* mu_data\n",
      "\n",
      "#samples\n",
      "theta_prior = np.random.normal(loc=mu_prior, scale=tau, size=N);\n",
      "theta_post = np.random.normal(loc=mu_post, scale=sig_post, size=N);"
     ],
     "language": "python",
     "metadata": {},
     "outputs": [],
     "prompt_number": 10
    },
    {
     "cell_type": "code",
     "collapsed": false,
     "input": [
      "plt.hist(theta_post, bins=30, alpha=0.9, label=\"posterior\");\n",
      "plt.hist(theta_prior, bins=30, alpha=0.2, label=\"prior\");\n",
      "plt.xlim([10, 30])\n",
      "plt.xlabel(\"wing length (mm)\")\n",
      "plt.ylabel(\"Number of samples\")\n",
      "plt.legend();"
     ],
     "language": "python",
     "metadata": {},
     "outputs": [
      {
       "metadata": {},
       "output_type": "display_data",
       "png": "[encoded data removed]",
       "text": [
        "<matplotlib.figure.Figure at 0x109839dd0>"
       ]
      }
     ],
     "prompt_number": 11
    },
    {
     "cell_type": "code",
     "collapsed": false,
     "input": [],
     "language": "python",
     "metadata": {},
     "outputs": [],
     "prompt_number": 11
    }
   ],
   "metadata": {}
  }
 ]
}