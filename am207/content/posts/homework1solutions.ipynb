Title: Homework 1Solutions
Tags: homeworks
Author: Pavlos Protopapas
Summary: Solutions to homework 1.


You can download this homework [here]({filename}/../../notebooks/HW1Solns.ipynb).

{% notebook HW1Solns.ipynb %}