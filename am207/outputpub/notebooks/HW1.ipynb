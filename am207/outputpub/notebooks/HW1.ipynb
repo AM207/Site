{
 "metadata": {
  "name": "",
  "signature": "sha256:0802dc838fa55a2053ce35d7cc5729bcd3ad52e9834e5ac57f58e94c9cb27476"
 },
 "nbformat": 3,
 "nbformat_minor": 0,
 "worksheets": [
  {
   "cells": [
    {
     "cell_type": "heading",
     "level": 1,
     "metadata": {},
     "source": [
      "**AM 207**: Homework 1"
     ]
    },
    {
     "cell_type": "markdown",
     "metadata": {},
     "source": [
      "_ _ _ _ _\n",
      "\n",
      "Pavlos Protopapas <br>\n",
      "Handed out: Thursday, February 6th, 2014<br>\n",
      "Due: 11.59 P.M. Wednesday February 12th, 2014\n",
      "\n",
      "**Instructions**:\n",
      "\n",
      "+ Upload your answers in an ipython notebook to the dropbox.\n",
      "\n",
      "+ Your individual submissions use the following filenames: AM207_YOURNAME_HM1.ipynb\n",
      "\n",
      "+ Your code should be in code cells as part of your ipython notebook. Do not use a different language (or format) unless you get permission from the TFs. If you use any special libraries you must include them with your code (program should run as is). \n",
      "\n",
      "+ If you have multiple files (e.g. you've added code files and images) create a tarball for all files in a single file and name it: AM207_YOURNAME_HM1.tar or AM207_YOURNAME_HM1.zip\n",
      "\n",
      "_ _ _ _ _"
     ]
    },
    {
     "cell_type": "heading",
     "level": 3,
     "metadata": {},
     "source": [
      "Question 1:  We'll always have Pareto"
     ]
    },
    {
     "cell_type": "markdown",
     "metadata": {},
     "source": [
      "If X is a random variable with a Pareto distribution, then the probability that X is greater than some number x, i.e. the survival function (also called tail function), is given by:\n",
      "\n",
      "$$\n",
      "P(X > x) = \\left(\\frac{\\alpha}{x}\\right)^{\\beta} \\hspace{1cm}   x \\ge \\alpha\\\\\n",
      "$$\n",
      "$$\n",
      "P(X > x)  = 1 \\hspace{1cm}   x \\lt \\alpha\n",
      "$$\n",
      " \n",
      "where $\\alpha$ is the (necessarily positive) minimum possible value of X, and $\\beta$ is a positive parameter, which is known as the tail index.\n",
      "\n",
      "Pareto originally used this distribution to describe how wealth is allocated amongst individuals, and the distribution of income. $\\beta$ is used to describe this allocation ratio: the 80/20 rule where 20 percent of the people have 80 percent of the wealth corresponds to $\\beta ~ 1.161$.\n",
      "\n",
      "(a) Find analytically the Pareto CDF and show that the Pareto PDF is given by:\n",
      "\n",
      "$$ (P(x) =\\frac{\\beta \\, \\alpha^{\\beta}}{x^{\\beta+1}} \\hspace{1cm} x\\ge \\alpha, \\hspace{0.3cm} \\alpha>0, \\hspace{0.3cm} \\beta>0  $$\n",
      "\n",
      "Plot the PDF for $\\beta=1.161,5$, and $\\alpha=0.5,3$.\n",
      "\n",
      "(b) Use the inverse method to to draw 10,000 samples from $X\\sim {\\rm Pareto}(\\alpha=3, \\beta=5)$. Plot a histogram of your samples.\n",
      "\n",
      "(c) Suppose $X\\sim {\\rm Pareto}(\\alpha=3, \\beta=5)$. Use importance sampling to estimate $E[X]$ and \n",
      "$E[X^2]$ to within 3% error. Use as the importance function any pdf that you can find in `scipy.stats` (plot the pdf against the pareto to see which one is a good match). Generate 10,000 samples from the  pdf to obtain your estimates. \n",
      "\n",
      "Report your estimates for $E[X]$ and $E[X^2]$ along with the estimators errors, which are to be obtained by repeatedly calculating the monte-carlo integrals 100 times. Remember that these errors must be within 3%: this will require you to experiment with different pdfs.\n"
     ]
    },
    {
     "cell_type": "heading",
     "level": 3,
     "metadata": {},
     "source": [
      "Question 2:  When do you get emails?"
     ]
    },
    {
     "cell_type": "markdown",
     "metadata": {},
     "source": [
      "The probability distribution of the emails I received as a function of time of the day\n",
      "follows a skewed distribution which can be modeled as:\n",
      "\n",
      "$$\n",
      " P(t) = \\lambda \\frac{t}{t^2+1} \\hspace{1cm}   0 \\le t \\le 12 \\\\ \\nonumber\n",
      "$$\n",
      "$$\n",
      " P(t)  = 0 \\hspace{2cm} 12 \\lt t \\le 24 \\\\ \\nonumber \n",
      "$$\n",
      "\n",
      "where $t=0$ is 6:00am, $\\lambda$ is a normalization constant and\n",
      "$t$ is measured in hours. \n",
      " \n",
      " Simulate $1\\times10^8$ emails arriving at times determined by the \n",
      "distribution above\n",
      "\n",
      "(a) Using inverse transform. Plot the histogram of the simulated event times and compare it to a plot of the true distribution. \n",
      "\n",
      "(b) Using the rejection method. Plot the histogram of the simulated event times and compare it to a plot of the the true distribution. \n",
      "\n",
      "(c) Time both simulations and report the times. Which one was faster and why ? "
     ]
    },
    {
     "cell_type": "heading",
     "level": 3,
     "metadata": {},
     "source": [
      "Question 3:  Valentine's Day Monte Carlo"
     ]
    },
    {
     "cell_type": "markdown",
     "metadata": {},
     "source": [
      "Valentine's day is coming soon and you decided  to design a nice gift for your loved one.\n",
      "Your design is shown in the figure below (unfortunately your aesthetic sensitivities are not great).\n",
      "A sphere of radius $r_1$ consists of  gold and platinum, with densities $\\rho_g$ and $\\rho_p$. Gold is located only within a cylinder of radius $r_2$, as illustrated in the figure, and platinum  of density  $\\rho_p$  fills up the rest of the sphere. Write a program that calculates the two moments of inertia of this sphere corresponding to rotation about the z and x axis. The inner cylinder is centered around the z-axis, as also shown in the figure.\n",
      "\n",
      "\n",
      "Do the calculation for a platinum  (21090 kg/m$^3$) sphere of radius 5 cm with an inner gold (19320 kg/m$^3$) cylinder of radius 1 cm. \n",
      "\n",
      "a) Carry out the calculation using Monte Carlo sampling of the moment of inertia integral\n",
      "\n",
      "$$ I_{axis} = \\int dx \\int dy \\int dz \\rho (x,y,z) \\, r_{axis}^2 (x,y,z) $$\n",
      "\n",
      "where $r_{axis}(x, y, z)$ is the perpendicular distance of the point (x, y, z) from the axis of rotation. \n",
      "Calculate the values of $I_x$ and $I_z$.\n",
      "\n",
      "b) Do the simulation for $I_x$, $N_{s}=1000$ times and for each simulation  choose $N_{mc}$ such \n",
      "the accuracy is $0.1\\%$. Show how you estimated the accuracy and what is the value \n",
      "of $N_{mc}$. \n",
      "\n",
      "<div class=\"figure\">\n",
      "<img alt=\"schematic\" src=\"./files/images/HM2_fig1.png\"/>\n",
      "</div>"
     ]
    },
    {
     "cell_type": "heading",
     "level": 3,
     "metadata": {},
     "source": [
      "Question 4: Rejection on Steroids"
     ]
    },
    {
     "cell_type": "markdown",
     "metadata": {},
     "source": [
      "Generate a random sample from the below two dimensional \n",
      "distribution using the rejection method. \n",
      "\n",
      "\n",
      "$$ P(x,y) = \\exp{ \\left( -(x^2+\\cos(x)\\, y^2) \\right) }  $$\n",
      "\n",
      "for $  -2<x<2$ and $ -2<y<2$.\n",
      "\n",
      "(a) Plot the distribution.\n",
      "\n",
      "(b) Generate the sample and estimate the ratio of the number of objects\n",
      "you accept ($N_+$) to the number of objects you reject ($N_-$). \n",
      "\n",
      "(c) Implement a rejection on steroids method for this distribution. By how much has \n",
      "this method improved the ratio ? "
     ]
    },
    {
     "cell_type": "code",
     "collapsed": false,
     "input": [],
     "language": "python",
     "metadata": {},
     "outputs": []
    }
   ],
   "metadata": {}
  }
 ]
}