{
 "metadata": {
  "name": ""
 },
 "nbformat": 3,
 "nbformat_minor": 0,
 "worksheets": [
  {
   "cells": [
    {
     "cell_type": "markdown",
     "metadata": {},
     "source": [
      "The story begins in 1921. Mr Perikl was traveling on a twin engine plane for the richness of South America. His brother, Lama,  has made a lot of money  finding gold on the Andian mountains. Lama was the adventorous type, he dropped out of high school and followed a friend who was going down to south america. He returned back in 10 years as a very rich man. Mr Perikl, stayed at school and then went to one of the most prestigous universities in the north america, Harvard, where he studied computational science under the famous then prof Prokvief Pavlovian. These studies never got Mr Perikl any money, fame or even popularity. He was a loner, shy and very uncomfortable with people he did not know. Nowadays one may call him a nerd, back then people called them peculiars. \n",
      "\n",
      "After graduating from Harvard, he took odd jobs at different place in Boston but none of them satisfied his curiocity or his intellect. \n",
      "\n",
      "When he heart that the mining companies in the desert of atacama were looking for bright young people help them unover the reachness of nitrite , since he had a very good understanding of engineering and mathematics he decided to take the risk and go down there. \n",
      "\n",
      "After a long trip to Lima, he boarded a twin engine that would take him to San Pedro de Atacama in the middle of the driest place on earth. Even lizards dried out here. Half way through the trip, the cross the high pass of the Andes and over the desert. He could see down the window of the plane the infinite desert. \n",
      "\n",
      "It was then when he realized that one of the engines was on fire. He informed the pilot, who told him there is no problem and they could continue on the other engine. But all of the sudden the other engine stopped operating. The pilot was quick to jump out of the plane with the only one chute that was available. Mr. Perikl was ready to die, sat on the seat and simply came to the conclusion that life was all about luck. He remembered the words his professor told him about randomness. \n",
      "\n",
      "The plane went down very fast and luckily landed on the soft sand. Mr. Perikl survived despite the odds. **\"There is always that small probability  and if you do not simulate things well, you will miss those outliers\"**, he remembered his wise professor telling him. He was so right he thought. \n",
      "\n",
      "He got out of the plane, dusted himself off, happily concluded that nothing was broken, he started examining the surrounding. There was absolutely nothing around. No water no food I will not survive, he thought. The voice of his professor was in his head though. **There is always that small little probability, the world is ergotic and if you search hard and smart enough you can get everywhere. **\n",
      "\n",
      "He took the GLS device (an old version of GPS that worked with pulsars) and started walking west hoping he could get to the coast. He knew the coast was hundred of kilometers away but he tried to use any information he had to his benefit. He also took with him all medical supplies and whatever else he could get. \n",
      "\n",
      "After 3 hours of walking, exhausted, thirsty and about to collapse he saw something like a water. He run and indeed was a little pond. How lucky I am he thought. He was ready to drink when he realized that there was a sign \"Poisson, do not drink\". He looked into the medical supplied for he remembered he saw something resembling antidote for poisonous water. \n",
      "\n",
      "Got it out and read the instructions. One drop per cupic meter of water. Do not use more, excess use can have unfortunate side effects, such as  blindness. Mr. Perikl has to calculate the volume of the water. Luckily the pond seem to have a constant depth of about the lenght of his palm, which he knew it was 30cm. He knew he had to calculate the volume of the water in the pond. How? Now he remembers what he learned back in Harvard under professor Eksipnakias. He form a square on the sand using his body as a measuring stick, throw stones in the air and by measuring the ....\n",
      "\n",
      "He continued his travel, however all of sudden a sand storm started and he could not see anything. He knew if he could go at the highest point he would have a much better chance in surviving. But without seeing the task of finding the highest point was impossible. Luckily again, his old professor has taught him how to find the maximum in a parameter landscape, which seemed to be perfectly appropriate for this problem. Remembering his professor, he stepped in a random direction and feeling if he went up and down. If he stepped downwards he reserved his position and tried again. Also he remembered from his lectures that every now and then he should be accepting bad positions. Half an hour later her was able to be at the high ground and saved his life once more. \n",
      "\n",
      "\n",
      "He stayed at the high ground for a while until the sand stormed susseded. Unfortunately now it was cloudy and he could not see the sun and during the sand storm he lost his sense of directionality. Being a very athletic man, he had a pedometer that could provide him with estimates of his speed and with some basic astronomy he knew he could estimate the direction. Started walking westward he faced the dilemna. Should he be trusting the old GPS or should he be trusting his pedometer and his estimations? All of sudden he remembered Prof. PrimaFather's lectures on Kalman filters. He remembered that this was a way to find out which one to believe more. Using the Kalman's gain he was able to maintain course and in few hours of walking he saw in the far lights of a little village. \n",
      "\n",
      "I am saved he thought. He started running towards the lights but when he arrived closed enough, he realized that this was not civilization as he was hoping for. This was a small dwelling out in the country with few people sitting around the fire playing a game. Most of them look like criminals just escaped from jail. He had no other choice but to approach them. He was hungry, tired, did not sleep or had water for few days.  Mr Perikl asked for water but the shady characters of the camp told him that in the desert nobody gives you water, you have to gain the water. Next they invited him to join them in a game of dudo, a game similar to poker played with dice. Mr Perikl knew nothing of the game but quikcly realized that it is all based on probability theory. After few rounds, he realized that all the players were calculating probailities where the game is based on commulative probability and extreme value distrubutions. Thanks to a little project he did with Prof. PrimaFather he wrote a small computer program using Markov Chain Monte Carlo to calculate complicated integrals of probability distributions. Luckily he has on his phone the program that he used for the project. Quickly he modified the code and soon after he started to win round after round. \n",
      "Winner of the game he walked out with water, food and a horse feeling good about himself and all the time he spent with prof. Primavief, again it saved his life.\n",
      "\n",
      "On the horse he continued his journey still trying to get out of the desert and still determined to make a lot of money before reurning \n",
      "\n",
      "\n",
      "\n",
      "\n",
      "\n",
      "\n",
      "\n",
      "\n",
      "\n",
      "\n",
      "\n",
      "\n",
      "\n",
      "\n",
      "\n"
     ]
    },
    {
     "cell_type": "code",
     "collapsed": false,
     "input": [],
     "language": "python",
     "metadata": {},
     "outputs": []
    }
   ],
   "metadata": {}
  }
 ]
}